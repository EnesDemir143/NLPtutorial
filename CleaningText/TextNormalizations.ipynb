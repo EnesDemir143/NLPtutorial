{
 "cells": [
  {
   "cell_type": "code",
   "execution_count": 1,
   "id": "c8dc6573",
   "metadata": {},
   "outputs": [],
   "source": [
    "import pandas as pd\n",
    "import string"
   ]
  },
  {
   "cell_type": "code",
   "execution_count": 2,
   "id": "7fc588eb",
   "metadata": {},
   "outputs": [
    {
     "data": {
      "application/vnd.microsoft.datawrangler.viewer.v0+json": {
       "columns": [
        {
         "name": "index",
         "rawType": "int64",
         "type": "integer"
        },
        {
         "name": "tweet",
         "rawType": "object",
         "type": "string"
        }
       ],
       "conversionMethod": "pd.DataFrame",
       "ref": "8cc139dd-6bc4-446b-b832-5c77522b27c0",
       "rows": [
        [
         "0",
         " @user when a father is dysfunctional and is so selfish he drags his kids into his dysfunction.   #run"
        ],
        [
         "1",
         "@user @user thanks for #lyft credit i can't use cause they don't offer wheelchair vans in pdx.    #disapointed #getthanked"
        ],
        [
         "2",
         "  bihday your majesty"
        ],
        [
         "3",
         "#model   i love u take with u all the time in urð±!!! ððððð¦ð¦ð¦  "
        ],
        [
         "4",
         " factsguide: society now    #motivation"
        ]
       ],
       "shape": {
        "columns": 1,
        "rows": 5
       }
      },
      "text/html": [
       "<div>\n",
       "<style scoped>\n",
       "    .dataframe tbody tr th:only-of-type {\n",
       "        vertical-align: middle;\n",
       "    }\n",
       "\n",
       "    .dataframe tbody tr th {\n",
       "        vertical-align: top;\n",
       "    }\n",
       "\n",
       "    .dataframe thead th {\n",
       "        text-align: right;\n",
       "    }\n",
       "</style>\n",
       "<table border=\"1\" class=\"dataframe\">\n",
       "  <thead>\n",
       "    <tr style=\"text-align: right;\">\n",
       "      <th></th>\n",
       "      <th>tweet</th>\n",
       "    </tr>\n",
       "  </thead>\n",
       "  <tbody>\n",
       "    <tr>\n",
       "      <th>0</th>\n",
       "      <td>@user when a father is dysfunctional and is s...</td>\n",
       "    </tr>\n",
       "    <tr>\n",
       "      <th>1</th>\n",
       "      <td>@user @user thanks for #lyft credit i can't us...</td>\n",
       "    </tr>\n",
       "    <tr>\n",
       "      <th>2</th>\n",
       "      <td>bihday your majesty</td>\n",
       "    </tr>\n",
       "    <tr>\n",
       "      <th>3</th>\n",
       "      <td>#model   i love u take with u all the time in ...</td>\n",
       "    </tr>\n",
       "    <tr>\n",
       "      <th>4</th>\n",
       "      <td>factsguide: society now    #motivation</td>\n",
       "    </tr>\n",
       "  </tbody>\n",
       "</table>\n",
       "</div>"
      ],
      "text/plain": [
       "                                               tweet\n",
       "0   @user when a father is dysfunctional and is s...\n",
       "1  @user @user thanks for #lyft credit i can't us...\n",
       "2                                bihday your majesty\n",
       "3  #model   i love u take with u all the time in ...\n",
       "4             factsguide: society now    #motivation"
      ]
     },
     "execution_count": 2,
     "metadata": {},
     "output_type": "execute_result"
    }
   ],
   "source": [
    "df = pd.read_csv(\"Twitter Sentiments.csv\")\n",
    "\n",
    "df = df.drop(columns=['id', 'label'], axis=1)\n",
    "df.head()"
   ]
  },
  {
   "cell_type": "markdown",
   "id": "5d1eea31",
   "metadata": {},
   "source": [
    "### Convert a LowerCase"
   ]
  },
  {
   "cell_type": "code",
   "execution_count": 3,
   "id": "e4637173",
   "metadata": {},
   "outputs": [
    {
     "data": {
      "application/vnd.microsoft.datawrangler.viewer.v0+json": {
       "columns": [
        {
         "name": "index",
         "rawType": "int64",
         "type": "integer"
        },
        {
         "name": "tweet",
         "rawType": "object",
         "type": "string"
        },
        {
         "name": "clean_text",
         "rawType": "object",
         "type": "string"
        }
       ],
       "conversionMethod": "pd.DataFrame",
       "ref": "f8165124-b934-4f06-93b3-e31097009d40",
       "rows": [
        [
         "0",
         " @user when a father is dysfunctional and is so selfish he drags his kids into his dysfunction.   #run",
         " @user when a father is dysfunctional and is so selfish he drags his kids into his dysfunction.   #run"
        ],
        [
         "1",
         "@user @user thanks for #lyft credit i can't use cause they don't offer wheelchair vans in pdx.    #disapointed #getthanked",
         "@user @user thanks for #lyft credit i can't use cause they don't offer wheelchair vans in pdx.    #disapointed #getthanked"
        ],
        [
         "2",
         "  bihday your majesty",
         "  bihday your majesty"
        ],
        [
         "3",
         "#model   i love u take with u all the time in urð±!!! ððððð¦ð¦ð¦  ",
         "#model   i love u take with u all the time in urð±!!! ððððð¦ð¦ð¦  "
        ],
        [
         "4",
         " factsguide: society now    #motivation",
         " factsguide: society now    #motivation"
        ]
       ],
       "shape": {
        "columns": 2,
        "rows": 5
       }
      },
      "text/html": [
       "<div>\n",
       "<style scoped>\n",
       "    .dataframe tbody tr th:only-of-type {\n",
       "        vertical-align: middle;\n",
       "    }\n",
       "\n",
       "    .dataframe tbody tr th {\n",
       "        vertical-align: top;\n",
       "    }\n",
       "\n",
       "    .dataframe thead th {\n",
       "        text-align: right;\n",
       "    }\n",
       "</style>\n",
       "<table border=\"1\" class=\"dataframe\">\n",
       "  <thead>\n",
       "    <tr style=\"text-align: right;\">\n",
       "      <th></th>\n",
       "      <th>tweet</th>\n",
       "      <th>clean_text</th>\n",
       "    </tr>\n",
       "  </thead>\n",
       "  <tbody>\n",
       "    <tr>\n",
       "      <th>0</th>\n",
       "      <td>@user when a father is dysfunctional and is s...</td>\n",
       "      <td>@user when a father is dysfunctional and is s...</td>\n",
       "    </tr>\n",
       "    <tr>\n",
       "      <th>1</th>\n",
       "      <td>@user @user thanks for #lyft credit i can't us...</td>\n",
       "      <td>@user @user thanks for #lyft credit i can't us...</td>\n",
       "    </tr>\n",
       "    <tr>\n",
       "      <th>2</th>\n",
       "      <td>bihday your majesty</td>\n",
       "      <td>bihday your majesty</td>\n",
       "    </tr>\n",
       "    <tr>\n",
       "      <th>3</th>\n",
       "      <td>#model   i love u take with u all the time in ...</td>\n",
       "      <td>#model   i love u take with u all the time in ...</td>\n",
       "    </tr>\n",
       "    <tr>\n",
       "      <th>4</th>\n",
       "      <td>factsguide: society now    #motivation</td>\n",
       "      <td>factsguide: society now    #motivation</td>\n",
       "    </tr>\n",
       "  </tbody>\n",
       "</table>\n",
       "</div>"
      ],
      "text/plain": [
       "                                               tweet  \\\n",
       "0   @user when a father is dysfunctional and is s...   \n",
       "1  @user @user thanks for #lyft credit i can't us...   \n",
       "2                                bihday your majesty   \n",
       "3  #model   i love u take with u all the time in ...   \n",
       "4             factsguide: society now    #motivation   \n",
       "\n",
       "                                          clean_text  \n",
       "0   @user when a father is dysfunctional and is s...  \n",
       "1  @user @user thanks for #lyft credit i can't us...  \n",
       "2                                bihday your majesty  \n",
       "3  #model   i love u take with u all the time in ...  \n",
       "4             factsguide: society now    #motivation  "
      ]
     },
     "execution_count": 3,
     "metadata": {},
     "output_type": "execute_result"
    }
   ],
   "source": [
    "df['clean_text'] = df['tweet'].str.lower()\n",
    "df.head()"
   ]
  },
  {
   "cell_type": "markdown",
   "id": "2029476a",
   "metadata": {},
   "source": [
    "### Remove Punctuations"
   ]
  },
  {
   "cell_type": "code",
   "execution_count": 4,
   "id": "77f41c2e",
   "metadata": {},
   "outputs": [
    {
     "data": {
      "text/plain": [
       "'!\"#$%&\\'()*+,-./:;<=>?@[\\\\]^_`{|}~'"
      ]
     },
     "execution_count": 4,
     "metadata": {},
     "output_type": "execute_result"
    }
   ],
   "source": [
    "string.punctuation"
   ]
  },
  {
   "cell_type": "code",
   "execution_count": 5,
   "id": "01ee43b7",
   "metadata": {},
   "outputs": [],
   "source": [
    "def remove_punctuations(text):\n",
    "    punctuations = string.punctuation\n",
    "    return text.translate(str.maketrans('', '', punctuations))"
   ]
  },
  {
   "cell_type": "code",
   "execution_count": 6,
   "id": "0151b85f",
   "metadata": {},
   "outputs": [
    {
     "data": {
      "application/vnd.microsoft.datawrangler.viewer.v0+json": {
       "columns": [
        {
         "name": "index",
         "rawType": "int64",
         "type": "integer"
        },
        {
         "name": "tweet",
         "rawType": "object",
         "type": "string"
        },
        {
         "name": "clean_text",
         "rawType": "object",
         "type": "string"
        }
       ],
       "conversionMethod": "pd.DataFrame",
       "ref": "e3ff47ac-a087-4995-a5e6-8d1ca40708ae",
       "rows": [
        [
         "0",
         " @user when a father is dysfunctional and is so selfish he drags his kids into his dysfunction.   #run",
         " user when a father is dysfunctional and is so selfish he drags his kids into his dysfunction   run"
        ],
        [
         "1",
         "@user @user thanks for #lyft credit i can't use cause they don't offer wheelchair vans in pdx.    #disapointed #getthanked",
         "user user thanks for lyft credit i cant use cause they dont offer wheelchair vans in pdx    disapointed getthanked"
        ],
        [
         "2",
         "  bihday your majesty",
         "  bihday your majesty"
        ],
        [
         "3",
         "#model   i love u take with u all the time in urð±!!! ððððð¦ð¦ð¦  ",
         "model   i love u take with u all the time in urð± ððððð¦ð¦ð¦  "
        ],
        [
         "4",
         " factsguide: society now    #motivation",
         " factsguide society now    motivation"
        ]
       ],
       "shape": {
        "columns": 2,
        "rows": 5
       }
      },
      "text/html": [
       "<div>\n",
       "<style scoped>\n",
       "    .dataframe tbody tr th:only-of-type {\n",
       "        vertical-align: middle;\n",
       "    }\n",
       "\n",
       "    .dataframe tbody tr th {\n",
       "        vertical-align: top;\n",
       "    }\n",
       "\n",
       "    .dataframe thead th {\n",
       "        text-align: right;\n",
       "    }\n",
       "</style>\n",
       "<table border=\"1\" class=\"dataframe\">\n",
       "  <thead>\n",
       "    <tr style=\"text-align: right;\">\n",
       "      <th></th>\n",
       "      <th>tweet</th>\n",
       "      <th>clean_text</th>\n",
       "    </tr>\n",
       "  </thead>\n",
       "  <tbody>\n",
       "    <tr>\n",
       "      <th>0</th>\n",
       "      <td>@user when a father is dysfunctional and is s...</td>\n",
       "      <td>user when a father is dysfunctional and is so...</td>\n",
       "    </tr>\n",
       "    <tr>\n",
       "      <th>1</th>\n",
       "      <td>@user @user thanks for #lyft credit i can't us...</td>\n",
       "      <td>user user thanks for lyft credit i cant use ca...</td>\n",
       "    </tr>\n",
       "    <tr>\n",
       "      <th>2</th>\n",
       "      <td>bihday your majesty</td>\n",
       "      <td>bihday your majesty</td>\n",
       "    </tr>\n",
       "    <tr>\n",
       "      <th>3</th>\n",
       "      <td>#model   i love u take with u all the time in ...</td>\n",
       "      <td>model   i love u take with u all the time in u...</td>\n",
       "    </tr>\n",
       "    <tr>\n",
       "      <th>4</th>\n",
       "      <td>factsguide: society now    #motivation</td>\n",
       "      <td>factsguide society now    motivation</td>\n",
       "    </tr>\n",
       "  </tbody>\n",
       "</table>\n",
       "</div>"
      ],
      "text/plain": [
       "                                               tweet  \\\n",
       "0   @user when a father is dysfunctional and is s...   \n",
       "1  @user @user thanks for #lyft credit i can't us...   \n",
       "2                                bihday your majesty   \n",
       "3  #model   i love u take with u all the time in ...   \n",
       "4             factsguide: society now    #motivation   \n",
       "\n",
       "                                          clean_text  \n",
       "0   user when a father is dysfunctional and is so...  \n",
       "1  user user thanks for lyft credit i cant use ca...  \n",
       "2                                bihday your majesty  \n",
       "3  model   i love u take with u all the time in u...  \n",
       "4               factsguide society now    motivation  "
      ]
     },
     "execution_count": 6,
     "metadata": {},
     "output_type": "execute_result"
    }
   ],
   "source": [
    "df['clean_text'] = df['clean_text'].apply(lambda x: remove_punctuations(x))\n",
    "df.head()"
   ]
  },
  {
   "cell_type": "markdown",
   "id": "c2829502",
   "metadata": {},
   "source": [
    "### Remove StopWords"
   ]
  },
  {
   "cell_type": "code",
   "execution_count": 7,
   "id": "5b66e8b3",
   "metadata": {},
   "outputs": [],
   "source": [
    "import nltk"
   ]
  },
  {
   "cell_type": "code",
   "execution_count": 8,
   "id": "e98d3f33",
   "metadata": {},
   "outputs": [
    {
     "data": {
      "text/plain": [
       "\"a,about,above,after,again,against,ain,all,am,an,and,any,are,aren,aren't,as,at,be,because,been,before,being,below,between,both,but,by,can,couldn,couldn't,d,did,didn,didn't,do,does,doesn,doesn't,doing,don,don't,down,during,each,few,for,from,further,had,hadn,hadn't,has,hasn,hasn't,have,haven,haven't,having,he,he'd,he'll,her,here,hers,herself,he's,him,himself,his,how,i,i'd,if,i'll,i'm,in,into,is,isn,isn't,it,it'd,it'll,it's,its,itself,i've,just,ll,m,ma,me,mightn,mightn't,more,most,mustn,mustn't,my,myself,needn,needn't,no,nor,not,now,o,of,off,on,once,only,or,other,our,ours,ourselves,out,over,own,re,s,same,shan,shan't,she,she'd,she'll,she's,should,shouldn,shouldn't,should've,so,some,such,t,than,that,that'll,the,their,theirs,them,themselves,then,there,these,they,they'd,they'll,they're,they've,this,those,through,to,too,under,until,up,ve,very,was,wasn,wasn't,we,we'd,we'll,we're,were,weren,weren't,we've,what,when,where,which,while,who,whom,why,will,with,won,won't,wouldn,wouldn't,y,you,you'd,you'll,your,you're,yours,yourself,yourselves,you've\""
      ]
     },
     "execution_count": 8,
     "metadata": {},
     "output_type": "execute_result"
    }
   ],
   "source": [
    "from nltk.corpus import stopwords\n",
    "\",\".join(stopwords.words('english'))"
   ]
  },
  {
   "cell_type": "code",
   "execution_count": 9,
   "id": "74fa7607",
   "metadata": {},
   "outputs": [],
   "source": [
    "STOPWORDS = set(stopwords.words('english'))\n",
    "\n",
    "def remove_stopwords(text):\n",
    "    return \" \".join([word for word in text.split() if word not in STOPWORDS])"
   ]
  },
  {
   "cell_type": "code",
   "execution_count": 10,
   "id": "16a22d7b",
   "metadata": {},
   "outputs": [
    {
     "data": {
      "application/vnd.microsoft.datawrangler.viewer.v0+json": {
       "columns": [
        {
         "name": "index",
         "rawType": "int64",
         "type": "integer"
        },
        {
         "name": "tweet",
         "rawType": "object",
         "type": "string"
        },
        {
         "name": "clean_text",
         "rawType": "object",
         "type": "string"
        }
       ],
       "conversionMethod": "pd.DataFrame",
       "ref": "bcc608be-2849-4930-8db1-8b29bed5bbca",
       "rows": [
        [
         "0",
         " @user when a father is dysfunctional and is so selfish he drags his kids into his dysfunction.   #run",
         "user father dysfunctional selfish drags kids dysfunction run"
        ],
        [
         "1",
         "@user @user thanks for #lyft credit i can't use cause they don't offer wheelchair vans in pdx.    #disapointed #getthanked",
         "user user thanks lyft credit cant use cause dont offer wheelchair vans pdx disapointed getthanked"
        ],
        [
         "2",
         "  bihday your majesty",
         "bihday majesty"
        ],
        [
         "3",
         "#model   i love u take with u all the time in urð±!!! ððððð¦ð¦ð¦  ",
         "model love u take u time urð± ðððð ð¦ð¦ð¦"
        ],
        [
         "4",
         " factsguide: society now    #motivation",
         "factsguide society motivation"
        ]
       ],
       "shape": {
        "columns": 2,
        "rows": 5
       }
      },
      "text/html": [
       "<div>\n",
       "<style scoped>\n",
       "    .dataframe tbody tr th:only-of-type {\n",
       "        vertical-align: middle;\n",
       "    }\n",
       "\n",
       "    .dataframe tbody tr th {\n",
       "        vertical-align: top;\n",
       "    }\n",
       "\n",
       "    .dataframe thead th {\n",
       "        text-align: right;\n",
       "    }\n",
       "</style>\n",
       "<table border=\"1\" class=\"dataframe\">\n",
       "  <thead>\n",
       "    <tr style=\"text-align: right;\">\n",
       "      <th></th>\n",
       "      <th>tweet</th>\n",
       "      <th>clean_text</th>\n",
       "    </tr>\n",
       "  </thead>\n",
       "  <tbody>\n",
       "    <tr>\n",
       "      <th>0</th>\n",
       "      <td>@user when a father is dysfunctional and is s...</td>\n",
       "      <td>user father dysfunctional selfish drags kids d...</td>\n",
       "    </tr>\n",
       "    <tr>\n",
       "      <th>1</th>\n",
       "      <td>@user @user thanks for #lyft credit i can't us...</td>\n",
       "      <td>user user thanks lyft credit cant use cause do...</td>\n",
       "    </tr>\n",
       "    <tr>\n",
       "      <th>2</th>\n",
       "      <td>bihday your majesty</td>\n",
       "      <td>bihday majesty</td>\n",
       "    </tr>\n",
       "    <tr>\n",
       "      <th>3</th>\n",
       "      <td>#model   i love u take with u all the time in ...</td>\n",
       "      <td>model love u take u time urð± ðððð...</td>\n",
       "    </tr>\n",
       "    <tr>\n",
       "      <th>4</th>\n",
       "      <td>factsguide: society now    #motivation</td>\n",
       "      <td>factsguide society motivation</td>\n",
       "    </tr>\n",
       "  </tbody>\n",
       "</table>\n",
       "</div>"
      ],
      "text/plain": [
       "                                               tweet  \\\n",
       "0   @user when a father is dysfunctional and is s...   \n",
       "1  @user @user thanks for #lyft credit i can't us...   \n",
       "2                                bihday your majesty   \n",
       "3  #model   i love u take with u all the time in ...   \n",
       "4             factsguide: society now    #motivation   \n",
       "\n",
       "                                          clean_text  \n",
       "0  user father dysfunctional selfish drags kids d...  \n",
       "1  user user thanks lyft credit cant use cause do...  \n",
       "2                                     bihday majesty  \n",
       "3  model love u take u time urð± ðððð...  \n",
       "4                      factsguide society motivation  "
      ]
     },
     "execution_count": 10,
     "metadata": {},
     "output_type": "execute_result"
    }
   ],
   "source": [
    "df['clean_text'] = df['clean_text'].apply(lambda x: remove_stopwords(x))\n",
    "df.head()"
   ]
  },
  {
   "cell_type": "markdown",
   "id": "d78fad68",
   "metadata": {},
   "source": [
    "### Remove Frequent Words"
   ]
  },
  {
   "cell_type": "code",
   "execution_count": 11,
   "id": "7c6414bf",
   "metadata": {},
   "outputs": [
    {
     "data": {
      "text/plain": [
       "[('user', 17473),\n",
       " ('love', 2647),\n",
       " ('day', 2198),\n",
       " ('happy', 1663),\n",
       " ('amp', 1582),\n",
       " ('im', 1139),\n",
       " ('u', 1136),\n",
       " ('time', 1110),\n",
       " ('life', 1086),\n",
       " ('like', 1042)]"
      ]
     },
     "execution_count": 11,
     "metadata": {},
     "output_type": "execute_result"
    }
   ],
   "source": [
    "from collections import Counter\n",
    "word_counter = Counter()\n",
    "for text in df['clean_text']:\n",
    "    for word in text.split():\n",
    "        word_counter[word] +=1\n",
    "word_counter.most_common(10)"
   ]
  },
  {
   "cell_type": "code",
   "execution_count": 13,
   "id": "41c1217a",
   "metadata": {},
   "outputs": [],
   "source": [
    "FREQUENT_WORDS = set(word for (word, wc) in word_counter.most_common(3))\n",
    "def remove_freq_words(text):\n",
    "    return \" \".join([word for word in text.split() if word not in FREQUENT_WORDS])"
   ]
  },
  {
   "cell_type": "code",
   "execution_count": 14,
   "id": "6db710dd",
   "metadata": {},
   "outputs": [
    {
     "data": {
      "application/vnd.microsoft.datawrangler.viewer.v0+json": {
       "columns": [
        {
         "name": "index",
         "rawType": "int64",
         "type": "integer"
        },
        {
         "name": "tweet",
         "rawType": "object",
         "type": "string"
        },
        {
         "name": "clean_text",
         "rawType": "object",
         "type": "string"
        }
       ],
       "conversionMethod": "pd.DataFrame",
       "ref": "5cd5f52b-3a7f-4484-bd49-1c0794f8c7d4",
       "rows": [
        [
         "0",
         " @user when a father is dysfunctional and is so selfish he drags his kids into his dysfunction.   #run",
         "father dysfunctional selfish drags kids dysfunction run"
        ],
        [
         "1",
         "@user @user thanks for #lyft credit i can't use cause they don't offer wheelchair vans in pdx.    #disapointed #getthanked",
         "thanks lyft credit cant use cause dont offer wheelchair vans pdx disapointed getthanked"
        ],
        [
         "2",
         "  bihday your majesty",
         "bihday majesty"
        ],
        [
         "3",
         "#model   i love u take with u all the time in urð±!!! ððððð¦ð¦ð¦  ",
         "model u take u time urð± ðððð ð¦ð¦ð¦"
        ],
        [
         "4",
         " factsguide: society now    #motivation",
         "factsguide society motivation"
        ]
       ],
       "shape": {
        "columns": 2,
        "rows": 5
       }
      },
      "text/html": [
       "<div>\n",
       "<style scoped>\n",
       "    .dataframe tbody tr th:only-of-type {\n",
       "        vertical-align: middle;\n",
       "    }\n",
       "\n",
       "    .dataframe tbody tr th {\n",
       "        vertical-align: top;\n",
       "    }\n",
       "\n",
       "    .dataframe thead th {\n",
       "        text-align: right;\n",
       "    }\n",
       "</style>\n",
       "<table border=\"1\" class=\"dataframe\">\n",
       "  <thead>\n",
       "    <tr style=\"text-align: right;\">\n",
       "      <th></th>\n",
       "      <th>tweet</th>\n",
       "      <th>clean_text</th>\n",
       "    </tr>\n",
       "  </thead>\n",
       "  <tbody>\n",
       "    <tr>\n",
       "      <th>0</th>\n",
       "      <td>@user when a father is dysfunctional and is s...</td>\n",
       "      <td>father dysfunctional selfish drags kids dysfun...</td>\n",
       "    </tr>\n",
       "    <tr>\n",
       "      <th>1</th>\n",
       "      <td>@user @user thanks for #lyft credit i can't us...</td>\n",
       "      <td>thanks lyft credit cant use cause dont offer w...</td>\n",
       "    </tr>\n",
       "    <tr>\n",
       "      <th>2</th>\n",
       "      <td>bihday your majesty</td>\n",
       "      <td>bihday majesty</td>\n",
       "    </tr>\n",
       "    <tr>\n",
       "      <th>3</th>\n",
       "      <td>#model   i love u take with u all the time in ...</td>\n",
       "      <td>model u take u time urð± ðððð ð...</td>\n",
       "    </tr>\n",
       "    <tr>\n",
       "      <th>4</th>\n",
       "      <td>factsguide: society now    #motivation</td>\n",
       "      <td>factsguide society motivation</td>\n",
       "    </tr>\n",
       "  </tbody>\n",
       "</table>\n",
       "</div>"
      ],
      "text/plain": [
       "                                               tweet  \\\n",
       "0   @user when a father is dysfunctional and is s...   \n",
       "1  @user @user thanks for #lyft credit i can't us...   \n",
       "2                                bihday your majesty   \n",
       "3  #model   i love u take with u all the time in ...   \n",
       "4             factsguide: society now    #motivation   \n",
       "\n",
       "                                          clean_text  \n",
       "0  father dysfunctional selfish drags kids dysfun...  \n",
       "1  thanks lyft credit cant use cause dont offer w...  \n",
       "2                                     bihday majesty  \n",
       "3  model u take u time urð± ðððð ð...  \n",
       "4                      factsguide society motivation  "
      ]
     },
     "execution_count": 14,
     "metadata": {},
     "output_type": "execute_result"
    }
   ],
   "source": [
    "df['clean_text'] = df['clean_text'].apply(lambda x: remove_freq_words(x))\n",
    "df.head()"
   ]
  },
  {
   "cell_type": "markdown",
   "id": "de4abf94",
   "metadata": {},
   "source": [
    "### Remove Rare Words"
   ]
  },
  {
   "cell_type": "code",
   "execution_count": 20,
   "id": "c3a8ed9c",
   "metadata": {},
   "outputs": [
    {
     "data": {
      "text/plain": [
       "{'airwaves',\n",
       " 'carnt',\n",
       " 'chisolm',\n",
       " 'ibizabringitonmallorcaholidayssummer',\n",
       " 'isz',\n",
       " 'mantle',\n",
       " 'shirley',\n",
       " 'youuuð\\x9f\\x98\\x8dð\\x9f\\x98\\x8dð\\x9f\\x98\\x8dð\\x9f\\x98\\x8dð\\x9f\\x98\\x8dð\\x9f\\x98\\x8dð\\x9f\\x98\\x8dð\\x9f\\x98\\x8dð\\x9f\\x98\\x8dâ\\x9d¤ï¸\\x8f',\n",
       " 'ð\\x9f\\x99\\x8fð\\x9f\\x8f¼ð\\x9f\\x8d¹ð\\x9f\\x98\\x8eð\\x9f\\x8eµ'}"
      ]
     },
     "execution_count": 20,
     "metadata": {},
     "output_type": "execute_result"
    }
   ],
   "source": [
    "RARE_WORDS = set(word for (word, wc) in word_counter.most_common()[: -10: -1])\n",
    "def remove_least_words(text):\n",
    "    return \" \".join([word for word in text.split() if word not in RARE_WORDS])\n",
    "RARE_WORDS"
   ]
  },
  {
   "cell_type": "code",
   "execution_count": 19,
   "id": "49166d5d",
   "metadata": {},
   "outputs": [
    {
     "data": {
      "application/vnd.microsoft.datawrangler.viewer.v0+json": {
       "columns": [
        {
         "name": "index",
         "rawType": "int64",
         "type": "integer"
        },
        {
         "name": "tweet",
         "rawType": "object",
         "type": "string"
        },
        {
         "name": "clean_text",
         "rawType": "object",
         "type": "string"
        }
       ],
       "conversionMethod": "pd.DataFrame",
       "ref": "79f7f2f5-3a20-43fa-83c6-bcfec1087612",
       "rows": [
        [
         "0",
         " @user when a father is dysfunctional and is so selfish he drags his kids into his dysfunction.   #run",
         "father dysfunctional selfish drags kids dysfunction run"
        ],
        [
         "1",
         "@user @user thanks for #lyft credit i can't use cause they don't offer wheelchair vans in pdx.    #disapointed #getthanked",
         "thanks lyft credit cant use cause dont offer wheelchair vans pdx disapointed getthanked"
        ],
        [
         "2",
         "  bihday your majesty",
         "bihday majesty"
        ],
        [
         "3",
         "#model   i love u take with u all the time in urð±!!! ððððð¦ð¦ð¦  ",
         "model u take u time urð± ðððð ð¦ð¦ð¦"
        ],
        [
         "4",
         " factsguide: society now    #motivation",
         "factsguide society motivation"
        ]
       ],
       "shape": {
        "columns": 2,
        "rows": 5
       }
      },
      "text/html": [
       "<div>\n",
       "<style scoped>\n",
       "    .dataframe tbody tr th:only-of-type {\n",
       "        vertical-align: middle;\n",
       "    }\n",
       "\n",
       "    .dataframe tbody tr th {\n",
       "        vertical-align: top;\n",
       "    }\n",
       "\n",
       "    .dataframe thead th {\n",
       "        text-align: right;\n",
       "    }\n",
       "</style>\n",
       "<table border=\"1\" class=\"dataframe\">\n",
       "  <thead>\n",
       "    <tr style=\"text-align: right;\">\n",
       "      <th></th>\n",
       "      <th>tweet</th>\n",
       "      <th>clean_text</th>\n",
       "    </tr>\n",
       "  </thead>\n",
       "  <tbody>\n",
       "    <tr>\n",
       "      <th>0</th>\n",
       "      <td>@user when a father is dysfunctional and is s...</td>\n",
       "      <td>father dysfunctional selfish drags kids dysfun...</td>\n",
       "    </tr>\n",
       "    <tr>\n",
       "      <th>1</th>\n",
       "      <td>@user @user thanks for #lyft credit i can't us...</td>\n",
       "      <td>thanks lyft credit cant use cause dont offer w...</td>\n",
       "    </tr>\n",
       "    <tr>\n",
       "      <th>2</th>\n",
       "      <td>bihday your majesty</td>\n",
       "      <td>bihday majesty</td>\n",
       "    </tr>\n",
       "    <tr>\n",
       "      <th>3</th>\n",
       "      <td>#model   i love u take with u all the time in ...</td>\n",
       "      <td>model u take u time urð± ðððð ð...</td>\n",
       "    </tr>\n",
       "    <tr>\n",
       "      <th>4</th>\n",
       "      <td>factsguide: society now    #motivation</td>\n",
       "      <td>factsguide society motivation</td>\n",
       "    </tr>\n",
       "  </tbody>\n",
       "</table>\n",
       "</div>"
      ],
      "text/plain": [
       "                                               tweet  \\\n",
       "0   @user when a father is dysfunctional and is s...   \n",
       "1  @user @user thanks for #lyft credit i can't us...   \n",
       "2                                bihday your majesty   \n",
       "3  #model   i love u take with u all the time in ...   \n",
       "4             factsguide: society now    #motivation   \n",
       "\n",
       "                                          clean_text  \n",
       "0  father dysfunctional selfish drags kids dysfun...  \n",
       "1  thanks lyft credit cant use cause dont offer w...  \n",
       "2                                     bihday majesty  \n",
       "3  model u take u time urð± ðððð ð...  \n",
       "4                      factsguide society motivation  "
      ]
     },
     "execution_count": 19,
     "metadata": {},
     "output_type": "execute_result"
    }
   ],
   "source": [
    "df['clean_text'] = df['clean_text'].apply(lambda x: remove_least_words(x))\n",
    "df.head()"
   ]
  },
  {
   "cell_type": "markdown",
   "id": "b0b66c90",
   "metadata": {},
   "source": [
    "### Removal Special Chracters"
   ]
  },
  {
   "cell_type": "code",
   "execution_count": 22,
   "id": "66fd5aed",
   "metadata": {},
   "outputs": [],
   "source": [
    "import re\n",
    "def remove_spl_chars(text):\n",
    "    text = re.sub('[^a-zA-Z0-9]', \" \" , text)\n",
    "    text = re.sub('\\\\s+', ' ', text)\n",
    "    return text"
   ]
  },
  {
   "cell_type": "code",
   "execution_count": 23,
   "id": "2ec2ccce",
   "metadata": {},
   "outputs": [
    {
     "data": {
      "application/vnd.microsoft.datawrangler.viewer.v0+json": {
       "columns": [
        {
         "name": "index",
         "rawType": "int64",
         "type": "integer"
        },
        {
         "name": "tweet",
         "rawType": "object",
         "type": "string"
        },
        {
         "name": "clean_text",
         "rawType": "object",
         "type": "string"
        }
       ],
       "conversionMethod": "pd.DataFrame",
       "ref": "68f50ec9-2411-489e-be81-ee84fa040d7d",
       "rows": [
        [
         "0",
         " @user when a father is dysfunctional and is so selfish he drags his kids into his dysfunction.   #run",
         "father dysfunctional selfish drags kids dysfunction run"
        ],
        [
         "1",
         "@user @user thanks for #lyft credit i can't use cause they don't offer wheelchair vans in pdx.    #disapointed #getthanked",
         "thanks lyft credit cant use cause dont offer wheelchair vans pdx disapointed getthanked"
        ],
        [
         "2",
         "  bihday your majesty",
         "bihday majesty"
        ],
        [
         "3",
         "#model   i love u take with u all the time in urð±!!! ððððð¦ð¦ð¦  ",
         "model u take u time ur "
        ],
        [
         "4",
         " factsguide: society now    #motivation",
         "factsguide society motivation"
        ]
       ],
       "shape": {
        "columns": 2,
        "rows": 5
       }
      },
      "text/html": [
       "<div>\n",
       "<style scoped>\n",
       "    .dataframe tbody tr th:only-of-type {\n",
       "        vertical-align: middle;\n",
       "    }\n",
       "\n",
       "    .dataframe tbody tr th {\n",
       "        vertical-align: top;\n",
       "    }\n",
       "\n",
       "    .dataframe thead th {\n",
       "        text-align: right;\n",
       "    }\n",
       "</style>\n",
       "<table border=\"1\" class=\"dataframe\">\n",
       "  <thead>\n",
       "    <tr style=\"text-align: right;\">\n",
       "      <th></th>\n",
       "      <th>tweet</th>\n",
       "      <th>clean_text</th>\n",
       "    </tr>\n",
       "  </thead>\n",
       "  <tbody>\n",
       "    <tr>\n",
       "      <th>0</th>\n",
       "      <td>@user when a father is dysfunctional and is s...</td>\n",
       "      <td>father dysfunctional selfish drags kids dysfun...</td>\n",
       "    </tr>\n",
       "    <tr>\n",
       "      <th>1</th>\n",
       "      <td>@user @user thanks for #lyft credit i can't us...</td>\n",
       "      <td>thanks lyft credit cant use cause dont offer w...</td>\n",
       "    </tr>\n",
       "    <tr>\n",
       "      <th>2</th>\n",
       "      <td>bihday your majesty</td>\n",
       "      <td>bihday majesty</td>\n",
       "    </tr>\n",
       "    <tr>\n",
       "      <th>3</th>\n",
       "      <td>#model   i love u take with u all the time in ...</td>\n",
       "      <td>model u take u time ur</td>\n",
       "    </tr>\n",
       "    <tr>\n",
       "      <th>4</th>\n",
       "      <td>factsguide: society now    #motivation</td>\n",
       "      <td>factsguide society motivation</td>\n",
       "    </tr>\n",
       "  </tbody>\n",
       "</table>\n",
       "</div>"
      ],
      "text/plain": [
       "                                               tweet  \\\n",
       "0   @user when a father is dysfunctional and is s...   \n",
       "1  @user @user thanks for #lyft credit i can't us...   \n",
       "2                                bihday your majesty   \n",
       "3  #model   i love u take with u all the time in ...   \n",
       "4             factsguide: society now    #motivation   \n",
       "\n",
       "                                          clean_text  \n",
       "0  father dysfunctional selfish drags kids dysfun...  \n",
       "1  thanks lyft credit cant use cause dont offer w...  \n",
       "2                                     bihday majesty  \n",
       "3                            model u take u time ur   \n",
       "4                      factsguide society motivation  "
      ]
     },
     "execution_count": 23,
     "metadata": {},
     "output_type": "execute_result"
    }
   ],
   "source": [
    "df['clean_text'] = df['clean_text'].apply(lambda x: remove_spl_chars(x))\n",
    "df.head()"
   ]
  },
  {
   "cell_type": "markdown",
   "id": "f8d6db3c",
   "metadata": {},
   "source": [
    "### Remove URLs"
   ]
  },
  {
   "cell_type": "code",
   "execution_count": 24,
   "id": "0461a799",
   "metadata": {},
   "outputs": [],
   "source": [
    "text = \"https://www.hackersrealm.net/ is the url of the channel hackers Realm\""
   ]
  },
  {
   "cell_type": "code",
   "execution_count": 39,
   "id": "41f32502",
   "metadata": {},
   "outputs": [],
   "source": [
    "def remove_url(text):\n",
    "    return re.sub(r\"https?://\\S+|www\\.\\S+\", '', text)"
   ]
  },
  {
   "cell_type": "code",
   "execution_count": 40,
   "id": "8cb878a1",
   "metadata": {},
   "outputs": [
    {
     "data": {
      "text/plain": [
       "' is the url of the channel hackers Realm'"
      ]
     },
     "execution_count": 40,
     "metadata": {},
     "output_type": "execute_result"
    }
   ],
   "source": [
    "remove_url(text)"
   ]
  },
  {
   "cell_type": "markdown",
   "id": "6c651fa3",
   "metadata": {},
   "source": [
    "### Remove HTMLs"
   ]
  },
  {
   "cell_type": "code",
   "execution_count": 42,
   "id": "e9c0c484",
   "metadata": {},
   "outputs": [],
   "source": [
    "html_example = \"<p>This is <b>HTML</b> content with <a href='https://example.com'>links</a> and <br> tags.</p>\""
   ]
  },
  {
   "cell_type": "code",
   "execution_count": 47,
   "id": "5d0d7bf1",
   "metadata": {},
   "outputs": [],
   "source": [
    "def remove_html_tags(text):\n",
    "    return re.sub(r'<.*?>', '', text)"
   ]
  },
  {
   "cell_type": "code",
   "execution_count": 46,
   "id": "3cda2c73",
   "metadata": {},
   "outputs": [
    {
     "data": {
      "text/plain": [
       "''"
      ]
     },
     "execution_count": 46,
     "metadata": {},
     "output_type": "execute_result"
    }
   ],
   "source": [
    "remove_html_tags(html_example)"
   ]
  },
  {
   "cell_type": "markdown",
   "id": "d4f4c9a5",
   "metadata": {},
   "source": [
    "Num2Words"
   ]
  },
  {
   "cell_type": "code",
   "execution_count": 3,
   "id": "bff421aa",
   "metadata": {},
   "outputs": [
    {
     "name": "stdout",
     "output_type": "stream",
     "text": [
      "['ali', 'yirmiüç', 'yaşında', 'veli', 'kırkbeş', 'yaşında', '.']\n"
     ]
    }
   ],
   "source": [
    "import spacy\n",
    "import re\n",
    "from num2words import num2words\n",
    "\n",
    "nlp = spacy.blank(\"tr\")\n",
    "\n",
    "def preprocess_text(text):\n",
    "    # Sayıları kelimeye çevir\n",
    "    def replace_numbers(match):\n",
    "        num = int(match.group(0))\n",
    "        return num2words(num, lang='tr')\n",
    "    \n",
    "    # Regex ile sayıları bul ve değiştir\n",
    "    text = re.sub(r'\\d+', replace_numbers, text)\n",
    "    # Büyük-küçük harf normalizasyonu\n",
    "    text = text.lower()\n",
    "    # Tokenizasyon\n",
    "    doc = nlp(text)\n",
    "    # Stop words kaldırma (opsiyonel)\n",
    "    stop_words = [\"ve\", \"ile\", \"bir\", \"da\", \"de\"]\n",
    "    tokens = [token.text for token in doc if token.text not in stop_words]\n",
    "    return tokens\n",
    "\n",
    "# Test\n",
    "text = \"Ali 23 yaşında ve Veli 45 yaşında.\"\n",
    "print(preprocess_text(text))\n",
    "# Çıktı: ['ali', 'yirmi', 'üç', 'yaşında', 'veli', 'kırk', 'beş', 'yaşında']"
   ]
  },
  {
   "cell_type": "code",
   "execution_count": null,
   "id": "a1e467db",
   "metadata": {},
   "outputs": [],
   "source": []
  }
 ],
 "metadata": {
  "kernelspec": {
   "display_name": ".venv",
   "language": "python",
   "name": "python3"
  },
  "language_info": {
   "codemirror_mode": {
    "name": "ipython",
    "version": 3
   },
   "file_extension": ".py",
   "mimetype": "text/x-python",
   "name": "python",
   "nbconvert_exporter": "python",
   "pygments_lexer": "ipython3",
   "version": "3.10.16"
  }
 },
 "nbformat": 4,
 "nbformat_minor": 5
}
