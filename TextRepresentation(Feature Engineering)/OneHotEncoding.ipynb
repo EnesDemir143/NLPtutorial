{
 "cells": [
  {
   "cell_type": "markdown",
   "id": "05b9bd38",
   "metadata": {},
   "source": [
    "Label Encoding bir metin temsil yöntemidir.\n",
    "Kullanılırken elimizde bir sözlük olur örnegın 2000 kelimelik.\n",
    "Sonra metinimizi bu kelimelerin sözlükdeki indexlerine göre temsil ederiz.Buna denir label encoding"
   ]
  },
  {
   "cell_type": "markdown",
   "id": "f9d72560",
   "metadata": {},
   "source": [
    "One hot encoding ise herzaman kullandıgımdır.Yani birden fazla classa göre bir matris olur 0 0 0 0 0 1 0 0 0 şeklinde mesela burdaki 1 olan classdaadır aslında gibi."
   ]
  },
  {
   "cell_type": "markdown",
   "id": "59feb4fe",
   "metadata": {},
   "source": [
    "One hot encoding çok fazla yer kabladıgından veya hiç sözlükte olmayan birşey gelirse sorun olur.Yani çok iyi bir yol değildir."
   ]
  },
  {
   "cell_type": "markdown",
   "id": "8990bb6e",
   "metadata": {},
   "source": [
    "Ayrıca aynı boyutta olmalı yüm vektörler yani cümleler bu yuzden kullanılmıyor nlp de.Classificationda işe yarar."
   ]
  },
  {
   "cell_type": "code",
   "execution_count": null,
   "id": "49afcfd5",
   "metadata": {},
   "outputs": [],
   "source": [
    "  "
   ]
  }
 ],
 "metadata": {
  "kernelspec": {
   "display_name": ".venv",
   "language": "python",
   "name": "python3"
  },
  "language_info": {
   "name": "python",
   "version": "3.10.16"
  }
 },
 "nbformat": 4,
 "nbformat_minor": 5
}
