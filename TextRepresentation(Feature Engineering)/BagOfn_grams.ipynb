{
 "cells": [
  {
   "cell_type": "markdown",
   "id": "02e4182a",
   "metadata": {},
   "source": [
    "Bag of ngrams aslında normal BOW un farklı versiyonlarıdır.BOW n gramda n=1 ikenki halidir.her kelime ayrı değerlendirilir.\n",
    "Ama farklı n gramlarda örnegın 2 olursa n => o zaman kelimeler 2li 2li yapılır.Window boyutu 2 olur ve her seferinde 1 kaydırılır.Stride 1 oldugunda Conv layer gibi.Bu aslında daha meaningful olabilirken vektör uzunlugunu arttırmaktadır.Bu sorun beraberınde AOV(Address out of memmory) olabilmektedir."
   ]
  },
  {
   "cell_type": "markdown",
   "id": "d2b6088f",
   "metadata": {},
   "source": [
    "Aynı zamanda hem n=1 hemde n=2(bi-gram) kullanmak yaygın bir yaklaşımdır.Bu yaklaşım genelde fazla memmory kullansada kullnılailmektedir.\n",
    "Ayrıca n=3 de yani tri-gramda kullanılabilmektedir.Bu ne kadar vektörü büyütsede anlamı arttırmaktadır.\n",
    "Window artması beraberınde sprasity increases durumu olmaktadır(Sürekli artmak anlamında.)."
   ]
  },
  {
   "cell_type": "code",
   "execution_count": 2,
   "id": "1f2398b1",
   "metadata": {},
   "outputs": [
    {
     "data": {
      "text/plain": [
       "{'where': 5,\n",
       " 'is': 1,\n",
       " 'my': 3,\n",
       " 'book': 0,\n",
       " 'where is': 6,\n",
       " 'is my': 2,\n",
       " 'my book': 4}"
      ]
     },
     "execution_count": 2,
     "metadata": {},
     "output_type": "execute_result"
    }
   ],
   "source": [
    "from sklearn.feature_extraction.text import CountVectorizer\n",
    "\n",
    "text = \"Where is my book?\"\n",
    "\n",
    "v = CountVectorizer(ngram_range=(1, 2))\n",
    "v.fit([text])\n",
    "\n",
    "v.vocabulary_"
   ]
  },
  {
   "cell_type": "code",
   "execution_count": 5,
   "id": "d9d42b55",
   "metadata": {},
   "outputs": [],
   "source": [
    "import spacy \n",
    "\n",
    "nlp = spacy.load('en_core_web_sm')\n",
    "\n",
    "def preprocess(text):\n",
    "    doc = nlp(text)\n",
    "    filtered_tokens = []\n",
    "\n",
    "    for token in doc:\n",
    "        if token.is_stop or token.is_punct:\n",
    "            continue\n",
    "        else:\n",
    "            filtered_tokens.append(token.lemma_)\n",
    "    return \" \".join(filtered_tokens)"
   ]
  },
  {
   "cell_type": "code",
   "execution_count": 7,
   "id": "97774007",
   "metadata": {},
   "outputs": [
    {
     "data": {
      "text/plain": [
       "'thor eat pizza'"
      ]
     },
     "execution_count": 7,
     "metadata": {},
     "output_type": "execute_result"
    }
   ],
   "source": [
    "text = \"Thor is ate pizza\"\n",
    "preprocess(text)"
   ]
  },
  {
   "cell_type": "code",
   "execution_count": 8,
   "id": "339b18bf",
   "metadata": {},
   "outputs": [],
   "source": [
    "corpus = [\n",
    "    \"Thor ate pizza\",\n",
    "    \"Loki is tall\",\n",
    "    \"Loki is eating pizza\"\n",
    "]"
   ]
  },
  {
   "cell_type": "code",
   "execution_count": 9,
   "id": "6ba03a09",
   "metadata": {},
   "outputs": [],
   "source": [
    "corpus_processed = [preprocess(x) for x in corpus]"
   ]
  },
  {
   "cell_type": "code",
   "execution_count": 10,
   "id": "4ea214f6",
   "metadata": {},
   "outputs": [
    {
     "data": {
      "text/plain": [
       "['thor eat pizza', 'Loki tall', 'Loki eat pizza']"
      ]
     },
     "execution_count": 10,
     "metadata": {},
     "output_type": "execute_result"
    }
   ],
   "source": [
    "corpus_processed"
   ]
  },
  {
   "cell_type": "code",
   "execution_count": 11,
   "id": "3fff9b13",
   "metadata": {},
   "outputs": [
    {
     "data": {
      "text/plain": [
       "{'thor': 7,\n",
       " 'eat': 0,\n",
       " 'pizza': 5,\n",
       " 'thor eat': 8,\n",
       " 'eat pizza': 1,\n",
       " 'loki': 2,\n",
       " 'tall': 6,\n",
       " 'loki tall': 4,\n",
       " 'loki eat': 3}"
      ]
     },
     "execution_count": 11,
     "metadata": {},
     "output_type": "execute_result"
    }
   ],
   "source": [
    "v = CountVectorizer(ngram_range=(1, 2))\n",
    "v.fit(corpus_processed)\n",
    "v.vocabulary_"
   ]
  },
  {
   "cell_type": "code",
   "execution_count": 14,
   "id": "ae201dd4",
   "metadata": {},
   "outputs": [
    {
     "data": {
      "text/plain": [
       "array([[1, 1, 0, 0, 0, 1, 0, 0, 0]])"
      ]
     },
     "execution_count": 14,
     "metadata": {},
     "output_type": "execute_result"
    }
   ],
   "source": [
    "v.transform([\"enes eat pizza\"]).toarray()"
   ]
  },
  {
   "cell_type": "markdown",
   "id": "264472c5",
   "metadata": {},
   "source": [
    "Transfrom sırasında vektörde olmayan kelimeler yok sayılır.Onları vektöre dahil etmez"
   ]
  },
  {
   "cell_type": "code",
   "execution_count": 19,
   "id": "8c124eb7",
   "metadata": {},
   "outputs": [
    {
     "name": "stdout",
     "output_type": "stream",
     "text": [
      "(12695, 2)\n"
     ]
    },
    {
     "data": {
      "application/vnd.microsoft.datawrangler.viewer.v0+json": {
       "columns": [
        {
         "name": "index",
         "rawType": "int64",
         "type": "integer"
        },
        {
         "name": "text",
         "rawType": "object",
         "type": "string"
        },
        {
         "name": "category",
         "rawType": "object",
         "type": "string"
        }
       ],
       "conversionMethod": "pd.DataFrame",
       "ref": "48a271e3-c484-4640-9fdd-888f198cab43",
       "rows": [
        [
         "0",
         "Watching Schrödinger's Cat Die University of California, Berkeley, physicists have, for the first time, showed that, in fact, it's possible to follow the metaphorical cat through the whole process, whether he lives or dies in the end.",
         "SCIENCE"
        ],
        [
         "1",
         "WATCH: Freaky Vortex Opens Up In Flooded Lake ",
         "SCIENCE"
        ],
        [
         "2",
         "Entrepreneurs Today Don't Need a Big Budget to Start It wasn't so many years ago that starting a new e-commerce business on the Internet was a complex custom development project, usually costing a million dollars or more. Now you can do it for free.",
         "BUSINESS"
        ],
        [
         "3",
         "These Roads Could Recharge Your Electric Car As You Drive The high-tech highways just might change the game for EV road trips.",
         "BUSINESS"
        ],
        [
         "4",
         "Civilian 'Guard' Fires Gun While 'Protecting' Recruiting Center Volunteer civilian \"guards\" have been kicked off the grounds outside a military recruiting center in Lancaster, Ohio, after",
         "CRIME"
        ]
       ],
       "shape": {
        "columns": 2,
        "rows": 5
       }
      },
      "text/html": [
       "<div>\n",
       "<style scoped>\n",
       "    .dataframe tbody tr th:only-of-type {\n",
       "        vertical-align: middle;\n",
       "    }\n",
       "\n",
       "    .dataframe tbody tr th {\n",
       "        vertical-align: top;\n",
       "    }\n",
       "\n",
       "    .dataframe thead th {\n",
       "        text-align: right;\n",
       "    }\n",
       "</style>\n",
       "<table border=\"1\" class=\"dataframe\">\n",
       "  <thead>\n",
       "    <tr style=\"text-align: right;\">\n",
       "      <th></th>\n",
       "      <th>text</th>\n",
       "      <th>category</th>\n",
       "    </tr>\n",
       "  </thead>\n",
       "  <tbody>\n",
       "    <tr>\n",
       "      <th>0</th>\n",
       "      <td>Watching Schrödinger's Cat Die University of C...</td>\n",
       "      <td>SCIENCE</td>\n",
       "    </tr>\n",
       "    <tr>\n",
       "      <th>1</th>\n",
       "      <td>WATCH: Freaky Vortex Opens Up In Flooded Lake</td>\n",
       "      <td>SCIENCE</td>\n",
       "    </tr>\n",
       "    <tr>\n",
       "      <th>2</th>\n",
       "      <td>Entrepreneurs Today Don't Need a Big Budget to...</td>\n",
       "      <td>BUSINESS</td>\n",
       "    </tr>\n",
       "    <tr>\n",
       "      <th>3</th>\n",
       "      <td>These Roads Could Recharge Your Electric Car A...</td>\n",
       "      <td>BUSINESS</td>\n",
       "    </tr>\n",
       "    <tr>\n",
       "      <th>4</th>\n",
       "      <td>Civilian 'Guard' Fires Gun While 'Protecting' ...</td>\n",
       "      <td>CRIME</td>\n",
       "    </tr>\n",
       "  </tbody>\n",
       "</table>\n",
       "</div>"
      ],
      "text/plain": [
       "                                                text  category\n",
       "0  Watching Schrödinger's Cat Die University of C...   SCIENCE\n",
       "1     WATCH: Freaky Vortex Opens Up In Flooded Lake    SCIENCE\n",
       "2  Entrepreneurs Today Don't Need a Big Budget to...  BUSINESS\n",
       "3  These Roads Could Recharge Your Electric Car A...  BUSINESS\n",
       "4  Civilian 'Guard' Fires Gun While 'Protecting' ...     CRIME"
      ]
     },
     "execution_count": 19,
     "metadata": {},
     "output_type": "execute_result"
    }
   ],
   "source": [
    "import pandas as pd\n",
    "\n",
    "df = pd.read_json(r'../news_dataset.json')\n",
    "\n",
    "print(df.shape)\n",
    "\n",
    "df.head()"
   ]
  },
  {
   "cell_type": "code",
   "execution_count": 20,
   "id": "5fe302ce",
   "metadata": {},
   "outputs": [
    {
     "data": {
      "text/plain": [
       "category\n",
       "BUSINESS    4254\n",
       "SPORTS      4167\n",
       "CRIME       2893\n",
       "SCIENCE     1381\n",
       "Name: count, dtype: int64"
      ]
     },
     "execution_count": 20,
     "metadata": {},
     "output_type": "execute_result"
    }
   ],
   "source": [
    "df.category.value_counts()"
   ]
  },
  {
   "cell_type": "code",
   "execution_count": 21,
   "id": "9f2d3def",
   "metadata": {},
   "outputs": [
    {
     "data": {
      "application/vnd.microsoft.datawrangler.viewer.v0+json": {
       "columns": [
        {
         "name": "index",
         "rawType": "int64",
         "type": "integer"
        },
        {
         "name": "text",
         "rawType": "object",
         "type": "string"
        },
        {
         "name": "category",
         "rawType": "object",
         "type": "string"
        }
       ],
       "conversionMethod": "pd.DataFrame",
       "ref": "c0ece4cd-71ef-4619-a102-7f3a89ba3229",
       "rows": [
        [
         "594",
         "How to Develop the Next Generation of Innovators: Stop Treating Everyone the Same Way What if we are going about jump-starting our own economy the wrong way? I'm not talking about any political party. I'm talking about our modest sensibilities: our belief that giving our best and brightest special consideration is elitist and wrong.",
         "BUSINESS"
        ],
        [
         "3093",
         "Madoff Victims' Payout Nears $7.2 Billion, Trustee Says ",
         "BUSINESS"
        ],
        [
         "7447",
         "Bay Area Floats 'Sanctuary In Transit Policy' To Protect Commuting Immigrants The proposal calls for limiting collaboration between BART police and federal agencies.",
         "BUSINESS"
        ],
        [
         "10388",
         "Microsoft Agrees To Acquire LinkedIn For $26.2 Billion (Reuters) - Microsoft Corp  agreed to buy LinkedIn Corp  for $26.2 billion in cash, the companies said in",
         "BUSINESS"
        ],
        [
         "1782",
         "Inside A Legal, Multibillion Dollar Weed Market ",
         "BUSINESS"
        ],
        [
         "12649",
         "AT&T Agrees To Buy Time Warner, In Principle Time Warner rejected an $80 billion offer from a different company in 2014.",
         "BUSINESS"
        ],
        [
         "3731",
         "Anheuser-Busch Delivers A Bunch Of Beer In A Self-Driving Truck AMERICA!",
         "BUSINESS"
        ],
        [
         "1313",
         "5 Habits of Leaders Who Create Change ",
         "BUSINESS"
        ],
        [
         "6961",
         "What It Takes to Become a Billionaire You're determined. So what? You haven't been racing naked through shark-infested waters yet.",
         "BUSINESS"
        ],
        [
         "351",
         "Fed Upgrades The Economy, But Will Be 'Patient' Raising Rates ",
         "BUSINESS"
        ],
        [
         "693",
         "This Is Why We Should Pay Attention To Bernie Sanders On Social Security Because your 401(k) really might not be enough, a new report finds.",
         "BUSINESS"
        ],
        [
         "3462",
         "Women in Business Q&A: Kelly Roberts, Historic Mission Inn & Spa Kelly Roberts graduated with a Bachelor of Arts degree from the University of Southern California and additionally earned a degree in law.  She is an entrepreneur who invests in Real Estate, apartments and other interesting businesses. Kelly is an equestrian and her hobbies include mixed martial arts and Pilates.",
         "BUSINESS"
        ],
        [
         "12672",
         "The 3 Least Intimidating Yet Effective Ways to Resurrect Your Stale Network Stale networks happen when people stay employed in one industry and haven't been in touch with contacts from their prior industry.",
         "BUSINESS"
        ],
        [
         "10650",
         "Popular Mall Stores Accused Of Screwing Over Workers American Eagle, Payless, Disney and Forever 21 are some of the stores involved in the probe.",
         "BUSINESS"
        ],
        [
         "11390",
         "These 10 Companies Pay Americans The Least ",
         "BUSINESS"
        ],
        [
         "5321",
         "Here's How Americans Spend Every Minute Of Their Days ",
         "BUSINESS"
        ],
        [
         "12440",
         "A Great Sign For The U.S. Economy ",
         "BUSINESS"
        ],
        [
         "10854",
         "American Cities Losing The Most Jobs This Year 2. Casper, WY Employment change: -3.77% No. of jobs Oct. 2015: 40,156 No. of jobs Oct. 2016: 38,644 Unemployment rate Oct",
         "BUSINESS"
        ],
        [
         "3932",
         "Why A Higher Unemployment Rate Is Actually Good News This Time ",
         "BUSINESS"
        ],
        [
         "10455",
         "Mother Finds Out Years Later That GM May Be Responsible For Daughter's Death ",
         "BUSINESS"
        ],
        [
         "6618",
         "2015's Most Amazing Images From Business And Industry What a year.",
         "BUSINESS"
        ],
        [
         "8130",
         "The Company Christmas Party Some dos and don'ts. Click for AUDIO version. December is here, along with the company Christmas party.  For newbies experiencing",
         "BUSINESS"
        ],
        [
         "3354",
         "Women in Business Q&A: Jennifer Fitchen, Partner, Sidley Austin LLP Jennifer Fitchen is a partner in Sidley Austin LLP's Palo Alto office. The views expressed in this article are exclusively those of the author and do not necessarily reflect those of Sidley Austin LLP and its partners.",
         "BUSINESS"
        ],
        [
         "8632",
         "Transformational Planning I know what you are thinking: Apple is big and has plenty of cash; we are small and there is never enough cash; we can't do transformational thinking and planning. You are wrong!",
         "BUSINESS"
        ],
        [
         "3240",
         "The Post Office Lost $2 Billion In Just 3 Months ",
         "BUSINESS"
        ],
        [
         "11473",
         "Costco, WTF? The Humane Society of the United States issued a report that initially made me a bit skeptical regarding Costco and hens -- so I quizzed Paul Shapiro, VP of Farm Animal Protection at HSUS about their expose of Costco, and here is how it went.",
         "BUSINESS"
        ],
        [
         "3738",
         "Big Oil Finally Admits Climate Risks -- To Its Business AND The Planet For decades, oil companies have tried to ignore the truth about climate change.",
         "BUSINESS"
        ],
        [
         "4170",
         "Women in Business Q&A: Sophie Delafontaine, Artistic Director, Longchamp ",
         "BUSINESS"
        ],
        [
         "8755",
         "Why Board Leadership Fails Where is the leadership? Is it tainted or toppled by hubris, narcissism, megalomania or some other tragic human frailty?",
         "BUSINESS"
        ],
        [
         "6234",
         "Bitcoin Halving: It Happened! ",
         "BUSINESS"
        ],
        [
         "2908",
         "Donald Trump Would Wreck The U.S. Economy His proposals would cause a recession and maybe worse.",
         "BUSINESS"
        ],
        [
         "7935",
         "First Impressions: Strong Payroll Gains Mark Another Solid Jobs Report While any one month's results from these \"high-frequency\" data should be taken with a grain of salt, I saw no obvious anomalies in the payroll data. Job growth was robust across industries, with almost 70 percent of private industries expanding.",
         "BUSINESS"
        ],
        [
         "921",
         "Innovation in Legal Practice: Beyond the Current Model of Professionalism This crisis of representation is not an aberration. It is a structural feature of the system of lawyer professionalism we have built, and it will not go away until we build a different way to deliver the benefits of law to people in need of them.",
         "BUSINESS"
        ],
        [
         "5539",
         "How Past Mistakes Kill Your Future ",
         "BUSINESS"
        ],
        [
         "10110",
         "Know Thyself: Harnessing the Power of Metacognition With a little self-reflection, we can understand how we think... and when we know the \"how\" of something, we can make efforts to improve upon it.",
         "BUSINESS"
        ],
        [
         "8912",
         "This Father’s Day, How About We Stop Judging Dads So Harshly? Give them a break at the office. Seriously.",
         "BUSINESS"
        ],
        [
         "8713",
         "Mining Companies Have Always Been Allowed To Choose Profit Over Safety Don Blankenship was sentenced to just one year in prison on Wednesday, but any punishment at all for mine safety violations is unusual.",
         "BUSINESS"
        ],
        [
         "3166",
         "What Do Banks Have to Hide From CFPB's Efforts to 'Make the Market for Credit Work Better'? This month, two different but powerful Wall Street bank lobbies launched self-serving attacks on the Consumer Financial Protections Bureau's most recent efforts to make banking markets more transparent. What do the banks have to hide?",
         "BUSINESS"
        ],
        [
         "11948",
         "Multiple New Hires? Consider Batch Onboarding NOW. ",
         "BUSINESS"
        ],
        [
         "327",
         "How to Future Proof Your Workplace Technology has enabled us to work anywhere and the locations of work have extended beyond the office building, into a variety of public spaces, fundamentally altering how space is used over time, by blurring the boundaries between corporate, retail, hospitality and residential uses.",
         "BUSINESS"
        ],
        [
         "5079",
         "Why Pay Secrecy Needs to End Instead of spending more time and money on keeping pay information secret, how about administering pay correctly so that there is nothing that needs to be kept secret?",
         "BUSINESS"
        ],
        [
         "8285",
         "The Equifax Breach Is Bad, But There Are Steps That Can Help By Kathleen Krumpter, Senior Financial Counselor, New York Legal Assistance Group When I first saw the news that Equifax",
         "BUSINESS"
        ],
        [
         "500",
         "Women in Business Q&A: Anna Perelman CEO and Co-Founder, Stellé Audio Couture ",
         "BUSINESS"
        ],
        [
         "4218",
         "Tesla Announces Major Upgrade To Original Roadster ",
         "BUSINESS"
        ],
        [
         "1943",
         "Noah's Ark Theme Park Plans To Only Hire People Who Believe Biblical Flood Actually Happened ",
         "BUSINESS"
        ],
        [
         "12406",
         "The \"Right to Request\" Flexibility One fear that some managers have in granting the request is that if they give it to one employee, they will have to give it to everyone.  Because of that fear, what may occur is the original flexibility request goes under the radar and is a negotiated \"deal\" between that employee and their manager.",
         "BUSINESS"
        ],
        [
         "1063",
         "Silicon Valley CEO Says Trump Is 'On The Wrong Side Of History' Airbnb's Brian Chesky is not a fan.",
         "BUSINESS"
        ],
        [
         "8972",
         "Eastern Wisdom Is Changing Western Corporate Practices (or, at Least It Should Be) From an employer standpoint, having employees ever at the ready sounds like an ideal situation; problems can get resolved with the \"send\" of a text or email.",
         "BUSINESS"
        ],
        [
         "2169",
         "What You Don't Know About Overnight Success I've been fighting this thing for 32 years. \"Overnight\" success doesn't happen overnight for most people. The media delivers this bad news and perpetuates lies making you believe that you are a failure because you didn't see the same results from your efforts.",
         "BUSINESS"
        ],
        [
         "575",
         "Uber Halts Self-Driving Car Fleet After Crash In Arizona No one was injured when an SUV flipped on its side in Tempe.",
         "BUSINESS"
        ]
       ],
       "shape": {
        "columns": 2,
        "rows": 1381
       }
      },
      "text/html": [
       "<div>\n",
       "<style scoped>\n",
       "    .dataframe tbody tr th:only-of-type {\n",
       "        vertical-align: middle;\n",
       "    }\n",
       "\n",
       "    .dataframe tbody tr th {\n",
       "        vertical-align: top;\n",
       "    }\n",
       "\n",
       "    .dataframe thead th {\n",
       "        text-align: right;\n",
       "    }\n",
       "</style>\n",
       "<table border=\"1\" class=\"dataframe\">\n",
       "  <thead>\n",
       "    <tr style=\"text-align: right;\">\n",
       "      <th></th>\n",
       "      <th>text</th>\n",
       "      <th>category</th>\n",
       "    </tr>\n",
       "  </thead>\n",
       "  <tbody>\n",
       "    <tr>\n",
       "      <th>594</th>\n",
       "      <td>How to Develop the Next Generation of Innovato...</td>\n",
       "      <td>BUSINESS</td>\n",
       "    </tr>\n",
       "    <tr>\n",
       "      <th>3093</th>\n",
       "      <td>Madoff Victims' Payout Nears $7.2 Billion, Tru...</td>\n",
       "      <td>BUSINESS</td>\n",
       "    </tr>\n",
       "    <tr>\n",
       "      <th>7447</th>\n",
       "      <td>Bay Area Floats 'Sanctuary In Transit Policy' ...</td>\n",
       "      <td>BUSINESS</td>\n",
       "    </tr>\n",
       "    <tr>\n",
       "      <th>10388</th>\n",
       "      <td>Microsoft Agrees To Acquire LinkedIn For $26.2...</td>\n",
       "      <td>BUSINESS</td>\n",
       "    </tr>\n",
       "    <tr>\n",
       "      <th>1782</th>\n",
       "      <td>Inside A Legal, Multibillion Dollar Weed Market</td>\n",
       "      <td>BUSINESS</td>\n",
       "    </tr>\n",
       "    <tr>\n",
       "      <th>...</th>\n",
       "      <td>...</td>\n",
       "      <td>...</td>\n",
       "    </tr>\n",
       "    <tr>\n",
       "      <th>7260</th>\n",
       "      <td>Secret Fine Print Lets Wall Street Enrich Itse...</td>\n",
       "      <td>BUSINESS</td>\n",
       "    </tr>\n",
       "    <tr>\n",
       "      <th>12149</th>\n",
       "      <td>Jeff Bezos Announces $33 Million Scholarship F...</td>\n",
       "      <td>BUSINESS</td>\n",
       "    </tr>\n",
       "    <tr>\n",
       "      <th>6465</th>\n",
       "      <td>Golfing Your Way to Success: The Power of Conn...</td>\n",
       "      <td>BUSINESS</td>\n",
       "    </tr>\n",
       "    <tr>\n",
       "      <th>10330</th>\n",
       "      <td>AOL in Alliance With NBCUniversal for Content ...</td>\n",
       "      <td>BUSINESS</td>\n",
       "    </tr>\n",
       "    <tr>\n",
       "      <th>9148</th>\n",
       "      <td>America's 10 Fastest Shrinking Companies</td>\n",
       "      <td>BUSINESS</td>\n",
       "    </tr>\n",
       "  </tbody>\n",
       "</table>\n",
       "<p>1381 rows × 2 columns</p>\n",
       "</div>"
      ],
      "text/plain": [
       "                                                    text  category\n",
       "594    How to Develop the Next Generation of Innovato...  BUSINESS\n",
       "3093   Madoff Victims' Payout Nears $7.2 Billion, Tru...  BUSINESS\n",
       "7447   Bay Area Floats 'Sanctuary In Transit Policy' ...  BUSINESS\n",
       "10388  Microsoft Agrees To Acquire LinkedIn For $26.2...  BUSINESS\n",
       "1782    Inside A Legal, Multibillion Dollar Weed Market   BUSINESS\n",
       "...                                                  ...       ...\n",
       "7260   Secret Fine Print Lets Wall Street Enrich Itse...  BUSINESS\n",
       "12149  Jeff Bezos Announces $33 Million Scholarship F...  BUSINESS\n",
       "6465   Golfing Your Way to Success: The Power of Conn...  BUSINESS\n",
       "10330  AOL in Alliance With NBCUniversal for Content ...  BUSINESS\n",
       "9148           America's 10 Fastest Shrinking Companies   BUSINESS\n",
       "\n",
       "[1381 rows x 2 columns]"
      ]
     },
     "execution_count": 21,
     "metadata": {},
     "output_type": "execute_result"
    }
   ],
   "source": [
    "min_samples = 1381\n",
    "\n",
    "df_business = df[df['category'] == 'BUSINESS'].sample(min_samples, random_state=42)\n",
    "df_business"
   ]
  },
  {
   "cell_type": "code",
   "execution_count": 22,
   "id": "6d732248",
   "metadata": {},
   "outputs": [],
   "source": [
    "df_science = df[df['category'] == 'SCIENCE'].sample(min_samples, random_state=42)\n",
    "df_sports = df[df['category'] == 'SPORTS'].sample(min_samples, random_state=42)\n",
    "df_crime = df[df['category'] == 'CRIME'].sample(min_samples, random_state=42)\n"
   ]
  },
  {
   "cell_type": "code",
   "execution_count": 23,
   "id": "2e864664",
   "metadata": {},
   "outputs": [
    {
     "data": {
      "application/vnd.microsoft.datawrangler.viewer.v0+json": {
       "columns": [
        {
         "name": "index",
         "rawType": "int64",
         "type": "integer"
        },
        {
         "name": "text",
         "rawType": "object",
         "type": "string"
        },
        {
         "name": "category",
         "rawType": "object",
         "type": "string"
        }
       ],
       "conversionMethod": "pd.DataFrame",
       "ref": "5de4dcaa-c570-474d-a007-d9e374a46992",
       "rows": [
        [
         "594",
         "How to Develop the Next Generation of Innovators: Stop Treating Everyone the Same Way What if we are going about jump-starting our own economy the wrong way? I'm not talking about any political party. I'm talking about our modest sensibilities: our belief that giving our best and brightest special consideration is elitist and wrong.",
         "BUSINESS"
        ],
        [
         "3093",
         "Madoff Victims' Payout Nears $7.2 Billion, Trustee Says ",
         "BUSINESS"
        ],
        [
         "7447",
         "Bay Area Floats 'Sanctuary In Transit Policy' To Protect Commuting Immigrants The proposal calls for limiting collaboration between BART police and federal agencies.",
         "BUSINESS"
        ],
        [
         "10388",
         "Microsoft Agrees To Acquire LinkedIn For $26.2 Billion (Reuters) - Microsoft Corp  agreed to buy LinkedIn Corp  for $26.2 billion in cash, the companies said in",
         "BUSINESS"
        ],
        [
         "1782",
         "Inside A Legal, Multibillion Dollar Weed Market ",
         "BUSINESS"
        ],
        [
         "12649",
         "AT&T Agrees To Buy Time Warner, In Principle Time Warner rejected an $80 billion offer from a different company in 2014.",
         "BUSINESS"
        ],
        [
         "3731",
         "Anheuser-Busch Delivers A Bunch Of Beer In A Self-Driving Truck AMERICA!",
         "BUSINESS"
        ],
        [
         "1313",
         "5 Habits of Leaders Who Create Change ",
         "BUSINESS"
        ],
        [
         "6961",
         "What It Takes to Become a Billionaire You're determined. So what? You haven't been racing naked through shark-infested waters yet.",
         "BUSINESS"
        ],
        [
         "351",
         "Fed Upgrades The Economy, But Will Be 'Patient' Raising Rates ",
         "BUSINESS"
        ],
        [
         "693",
         "This Is Why We Should Pay Attention To Bernie Sanders On Social Security Because your 401(k) really might not be enough, a new report finds.",
         "BUSINESS"
        ],
        [
         "3462",
         "Women in Business Q&A: Kelly Roberts, Historic Mission Inn & Spa Kelly Roberts graduated with a Bachelor of Arts degree from the University of Southern California and additionally earned a degree in law.  She is an entrepreneur who invests in Real Estate, apartments and other interesting businesses. Kelly is an equestrian and her hobbies include mixed martial arts and Pilates.",
         "BUSINESS"
        ],
        [
         "12672",
         "The 3 Least Intimidating Yet Effective Ways to Resurrect Your Stale Network Stale networks happen when people stay employed in one industry and haven't been in touch with contacts from their prior industry.",
         "BUSINESS"
        ],
        [
         "10650",
         "Popular Mall Stores Accused Of Screwing Over Workers American Eagle, Payless, Disney and Forever 21 are some of the stores involved in the probe.",
         "BUSINESS"
        ],
        [
         "11390",
         "These 10 Companies Pay Americans The Least ",
         "BUSINESS"
        ],
        [
         "5321",
         "Here's How Americans Spend Every Minute Of Their Days ",
         "BUSINESS"
        ],
        [
         "12440",
         "A Great Sign For The U.S. Economy ",
         "BUSINESS"
        ],
        [
         "10854",
         "American Cities Losing The Most Jobs This Year 2. Casper, WY Employment change: -3.77% No. of jobs Oct. 2015: 40,156 No. of jobs Oct. 2016: 38,644 Unemployment rate Oct",
         "BUSINESS"
        ],
        [
         "3932",
         "Why A Higher Unemployment Rate Is Actually Good News This Time ",
         "BUSINESS"
        ],
        [
         "10455",
         "Mother Finds Out Years Later That GM May Be Responsible For Daughter's Death ",
         "BUSINESS"
        ],
        [
         "6618",
         "2015's Most Amazing Images From Business And Industry What a year.",
         "BUSINESS"
        ],
        [
         "8130",
         "The Company Christmas Party Some dos and don'ts. Click for AUDIO version. December is here, along with the company Christmas party.  For newbies experiencing",
         "BUSINESS"
        ],
        [
         "3354",
         "Women in Business Q&A: Jennifer Fitchen, Partner, Sidley Austin LLP Jennifer Fitchen is a partner in Sidley Austin LLP's Palo Alto office. The views expressed in this article are exclusively those of the author and do not necessarily reflect those of Sidley Austin LLP and its partners.",
         "BUSINESS"
        ],
        [
         "8632",
         "Transformational Planning I know what you are thinking: Apple is big and has plenty of cash; we are small and there is never enough cash; we can't do transformational thinking and planning. You are wrong!",
         "BUSINESS"
        ],
        [
         "3240",
         "The Post Office Lost $2 Billion In Just 3 Months ",
         "BUSINESS"
        ],
        [
         "11473",
         "Costco, WTF? The Humane Society of the United States issued a report that initially made me a bit skeptical regarding Costco and hens -- so I quizzed Paul Shapiro, VP of Farm Animal Protection at HSUS about their expose of Costco, and here is how it went.",
         "BUSINESS"
        ],
        [
         "3738",
         "Big Oil Finally Admits Climate Risks -- To Its Business AND The Planet For decades, oil companies have tried to ignore the truth about climate change.",
         "BUSINESS"
        ],
        [
         "4170",
         "Women in Business Q&A: Sophie Delafontaine, Artistic Director, Longchamp ",
         "BUSINESS"
        ],
        [
         "8755",
         "Why Board Leadership Fails Where is the leadership? Is it tainted or toppled by hubris, narcissism, megalomania or some other tragic human frailty?",
         "BUSINESS"
        ],
        [
         "6234",
         "Bitcoin Halving: It Happened! ",
         "BUSINESS"
        ],
        [
         "2908",
         "Donald Trump Would Wreck The U.S. Economy His proposals would cause a recession and maybe worse.",
         "BUSINESS"
        ],
        [
         "7935",
         "First Impressions: Strong Payroll Gains Mark Another Solid Jobs Report While any one month's results from these \"high-frequency\" data should be taken with a grain of salt, I saw no obvious anomalies in the payroll data. Job growth was robust across industries, with almost 70 percent of private industries expanding.",
         "BUSINESS"
        ],
        [
         "921",
         "Innovation in Legal Practice: Beyond the Current Model of Professionalism This crisis of representation is not an aberration. It is a structural feature of the system of lawyer professionalism we have built, and it will not go away until we build a different way to deliver the benefits of law to people in need of them.",
         "BUSINESS"
        ],
        [
         "5539",
         "How Past Mistakes Kill Your Future ",
         "BUSINESS"
        ],
        [
         "10110",
         "Know Thyself: Harnessing the Power of Metacognition With a little self-reflection, we can understand how we think... and when we know the \"how\" of something, we can make efforts to improve upon it.",
         "BUSINESS"
        ],
        [
         "8912",
         "This Father’s Day, How About We Stop Judging Dads So Harshly? Give them a break at the office. Seriously.",
         "BUSINESS"
        ],
        [
         "8713",
         "Mining Companies Have Always Been Allowed To Choose Profit Over Safety Don Blankenship was sentenced to just one year in prison on Wednesday, but any punishment at all for mine safety violations is unusual.",
         "BUSINESS"
        ],
        [
         "3166",
         "What Do Banks Have to Hide From CFPB's Efforts to 'Make the Market for Credit Work Better'? This month, two different but powerful Wall Street bank lobbies launched self-serving attacks on the Consumer Financial Protections Bureau's most recent efforts to make banking markets more transparent. What do the banks have to hide?",
         "BUSINESS"
        ],
        [
         "11948",
         "Multiple New Hires? Consider Batch Onboarding NOW. ",
         "BUSINESS"
        ],
        [
         "327",
         "How to Future Proof Your Workplace Technology has enabled us to work anywhere and the locations of work have extended beyond the office building, into a variety of public spaces, fundamentally altering how space is used over time, by blurring the boundaries between corporate, retail, hospitality and residential uses.",
         "BUSINESS"
        ],
        [
         "5079",
         "Why Pay Secrecy Needs to End Instead of spending more time and money on keeping pay information secret, how about administering pay correctly so that there is nothing that needs to be kept secret?",
         "BUSINESS"
        ],
        [
         "8285",
         "The Equifax Breach Is Bad, But There Are Steps That Can Help By Kathleen Krumpter, Senior Financial Counselor, New York Legal Assistance Group When I first saw the news that Equifax",
         "BUSINESS"
        ],
        [
         "500",
         "Women in Business Q&A: Anna Perelman CEO and Co-Founder, Stellé Audio Couture ",
         "BUSINESS"
        ],
        [
         "4218",
         "Tesla Announces Major Upgrade To Original Roadster ",
         "BUSINESS"
        ],
        [
         "1943",
         "Noah's Ark Theme Park Plans To Only Hire People Who Believe Biblical Flood Actually Happened ",
         "BUSINESS"
        ],
        [
         "12406",
         "The \"Right to Request\" Flexibility One fear that some managers have in granting the request is that if they give it to one employee, they will have to give it to everyone.  Because of that fear, what may occur is the original flexibility request goes under the radar and is a negotiated \"deal\" between that employee and their manager.",
         "BUSINESS"
        ],
        [
         "1063",
         "Silicon Valley CEO Says Trump Is 'On The Wrong Side Of History' Airbnb's Brian Chesky is not a fan.",
         "BUSINESS"
        ],
        [
         "8972",
         "Eastern Wisdom Is Changing Western Corporate Practices (or, at Least It Should Be) From an employer standpoint, having employees ever at the ready sounds like an ideal situation; problems can get resolved with the \"send\" of a text or email.",
         "BUSINESS"
        ],
        [
         "2169",
         "What You Don't Know About Overnight Success I've been fighting this thing for 32 years. \"Overnight\" success doesn't happen overnight for most people. The media delivers this bad news and perpetuates lies making you believe that you are a failure because you didn't see the same results from your efforts.",
         "BUSINESS"
        ],
        [
         "575",
         "Uber Halts Self-Driving Car Fleet After Crash In Arizona No one was injured when an SUV flipped on its side in Tempe.",
         "BUSINESS"
        ]
       ],
       "shape": {
        "columns": 2,
        "rows": 5524
       }
      },
      "text/html": [
       "<div>\n",
       "<style scoped>\n",
       "    .dataframe tbody tr th:only-of-type {\n",
       "        vertical-align: middle;\n",
       "    }\n",
       "\n",
       "    .dataframe tbody tr th {\n",
       "        vertical-align: top;\n",
       "    }\n",
       "\n",
       "    .dataframe thead th {\n",
       "        text-align: right;\n",
       "    }\n",
       "</style>\n",
       "<table border=\"1\" class=\"dataframe\">\n",
       "  <thead>\n",
       "    <tr style=\"text-align: right;\">\n",
       "      <th></th>\n",
       "      <th>text</th>\n",
       "      <th>category</th>\n",
       "    </tr>\n",
       "  </thead>\n",
       "  <tbody>\n",
       "    <tr>\n",
       "      <th>594</th>\n",
       "      <td>How to Develop the Next Generation of Innovato...</td>\n",
       "      <td>BUSINESS</td>\n",
       "    </tr>\n",
       "    <tr>\n",
       "      <th>3093</th>\n",
       "      <td>Madoff Victims' Payout Nears $7.2 Billion, Tru...</td>\n",
       "      <td>BUSINESS</td>\n",
       "    </tr>\n",
       "    <tr>\n",
       "      <th>7447</th>\n",
       "      <td>Bay Area Floats 'Sanctuary In Transit Policy' ...</td>\n",
       "      <td>BUSINESS</td>\n",
       "    </tr>\n",
       "    <tr>\n",
       "      <th>10388</th>\n",
       "      <td>Microsoft Agrees To Acquire LinkedIn For $26.2...</td>\n",
       "      <td>BUSINESS</td>\n",
       "    </tr>\n",
       "    <tr>\n",
       "      <th>1782</th>\n",
       "      <td>Inside A Legal, Multibillion Dollar Weed Market</td>\n",
       "      <td>BUSINESS</td>\n",
       "    </tr>\n",
       "    <tr>\n",
       "      <th>...</th>\n",
       "      <td>...</td>\n",
       "      <td>...</td>\n",
       "    </tr>\n",
       "    <tr>\n",
       "      <th>424</th>\n",
       "      <td>'Floyd Did Not Fight Like The Man I Expected'</td>\n",
       "      <td>SPORTS</td>\n",
       "    </tr>\n",
       "    <tr>\n",
       "      <th>3533</th>\n",
       "      <td>18 Years Ago, This Pesky Kid Broke Baltimore O...</td>\n",
       "      <td>SPORTS</td>\n",
       "    </tr>\n",
       "    <tr>\n",
       "      <th>9813</th>\n",
       "      <td>Miami Heat's Dwyane Wade Pays Surprise Visit T...</td>\n",
       "      <td>SPORTS</td>\n",
       "    </tr>\n",
       "    <tr>\n",
       "      <th>3594</th>\n",
       "      <td>Even The Lions Outside The Art Institute Of Ch...</td>\n",
       "      <td>SPORTS</td>\n",
       "    </tr>\n",
       "    <tr>\n",
       "      <th>8318</th>\n",
       "      <td>Belgian Soccer Team Honors Brussels Bombing Vi...</td>\n",
       "      <td>SPORTS</td>\n",
       "    </tr>\n",
       "  </tbody>\n",
       "</table>\n",
       "<p>5524 rows × 2 columns</p>\n",
       "</div>"
      ],
      "text/plain": [
       "                                                    text  category\n",
       "594    How to Develop the Next Generation of Innovato...  BUSINESS\n",
       "3093   Madoff Victims' Payout Nears $7.2 Billion, Tru...  BUSINESS\n",
       "7447   Bay Area Floats 'Sanctuary In Transit Policy' ...  BUSINESS\n",
       "10388  Microsoft Agrees To Acquire LinkedIn For $26.2...  BUSINESS\n",
       "1782    Inside A Legal, Multibillion Dollar Weed Market   BUSINESS\n",
       "...                                                  ...       ...\n",
       "424       'Floyd Did Not Fight Like The Man I Expected'     SPORTS\n",
       "3533   18 Years Ago, This Pesky Kid Broke Baltimore O...    SPORTS\n",
       "9813   Miami Heat's Dwyane Wade Pays Surprise Visit T...    SPORTS\n",
       "3594   Even The Lions Outside The Art Institute Of Ch...    SPORTS\n",
       "8318   Belgian Soccer Team Honors Brussels Bombing Vi...    SPORTS\n",
       "\n",
       "[5524 rows x 2 columns]"
      ]
     },
     "execution_count": 23,
     "metadata": {},
     "output_type": "execute_result"
    }
   ],
   "source": [
    "df_balanced = pd.concat([df_business, df_science, df_crime, df_sports], axis=0)\n",
    "df_balanced"
   ]
  },
  {
   "cell_type": "code",
   "execution_count": 24,
   "id": "fe6ca16a",
   "metadata": {},
   "outputs": [
    {
     "data": {
      "text/plain": [
       "category\n",
       "BUSINESS    4254\n",
       "SPORTS      4167\n",
       "CRIME       2893\n",
       "SCIENCE     1381\n",
       "Name: count, dtype: int64"
      ]
     },
     "execution_count": 24,
     "metadata": {},
     "output_type": "execute_result"
    }
   ],
   "source": [
    "df.category.value_counts()"
   ]
  },
  {
   "cell_type": "code",
   "execution_count": 26,
   "id": "5f9df95e",
   "metadata": {},
   "outputs": [],
   "source": [
    "df_balanced['category_num'] = df_balanced['category'].map({\n",
    "    'BUSINESS': 0,\n",
    "    'SPORTS': 1, \n",
    "    'CRIME': 2, \n",
    "    'SCIENCE': 3\n",
    "})"
   ]
  },
  {
   "cell_type": "code",
   "execution_count": 29,
   "id": "a7b72484",
   "metadata": {},
   "outputs": [
    {
     "data": {
      "text/plain": [
       "category_num\n",
       "0    1381\n",
       "3    1381\n",
       "2    1381\n",
       "1    1381\n",
       "Name: count, dtype: int64"
      ]
     },
     "execution_count": 29,
     "metadata": {},
     "output_type": "execute_result"
    }
   ],
   "source": [
    "df_balanced.category_num.value_counts()"
   ]
  },
  {
   "cell_type": "code",
   "execution_count": 31,
   "id": "93a7bcdd",
   "metadata": {},
   "outputs": [
    {
     "name": "stdout",
     "output_type": "stream",
     "text": [
      "(4419,)\n"
     ]
    },
    {
     "data": {
      "text/plain": [
       "6414     Arby's Employee Keeps Job After Refusing To Se...\n",
       "1318     Colorful NASA Image Shows Off Pluto’s Psychede...\n",
       "4170     Women in Business Q&A: Sophie Delafontaine, Ar...\n",
       "11310    5 Formalized Referral Systems to Grow Your Sal...\n",
       "4188     Hawaii's Kilauea Volcano Sees A Mesmerizing Ri...\n",
       "Name: text, dtype: object"
      ]
     },
     "execution_count": 31,
     "metadata": {},
     "output_type": "execute_result"
    }
   ],
   "source": [
    "from sklearn.model_selection import train_test_split\n",
    "\n",
    "X_train, X_test, y_train, y_test = train_test_split(df_balanced.text, df_balanced.category_num, test_size=0.2, stratify=df_balanced.category_num, random_state=42)\n",
    "\n",
    "print(X_train.shape)\n",
    "X_train.head()"
   ]
  },
  {
   "cell_type": "code",
   "execution_count": 32,
   "id": "50034a31",
   "metadata": {},
   "outputs": [
    {
     "data": {
      "text/plain": [
       "category_num\n",
       "0    1105\n",
       "3    1105\n",
       "1    1105\n",
       "2    1104\n",
       "Name: count, dtype: int64"
      ]
     },
     "execution_count": 32,
     "metadata": {},
     "output_type": "execute_result"
    }
   ],
   "source": [
    "y_train.value_counts()"
   ]
  },
  {
   "cell_type": "code",
   "execution_count": 33,
   "id": "596121a1",
   "metadata": {},
   "outputs": [
    {
     "data": {
      "text/html": [
       "<style>#sk-container-id-1 {\n",
       "  /* Definition of color scheme common for light and dark mode */\n",
       "  --sklearn-color-text: #000;\n",
       "  --sklearn-color-text-muted: #666;\n",
       "  --sklearn-color-line: gray;\n",
       "  /* Definition of color scheme for unfitted estimators */\n",
       "  --sklearn-color-unfitted-level-0: #fff5e6;\n",
       "  --sklearn-color-unfitted-level-1: #f6e4d2;\n",
       "  --sklearn-color-unfitted-level-2: #ffe0b3;\n",
       "  --sklearn-color-unfitted-level-3: chocolate;\n",
       "  /* Definition of color scheme for fitted estimators */\n",
       "  --sklearn-color-fitted-level-0: #f0f8ff;\n",
       "  --sklearn-color-fitted-level-1: #d4ebff;\n",
       "  --sklearn-color-fitted-level-2: #b3dbfd;\n",
       "  --sklearn-color-fitted-level-3: cornflowerblue;\n",
       "\n",
       "  /* Specific color for light theme */\n",
       "  --sklearn-color-text-on-default-background: var(--sg-text-color, var(--theme-code-foreground, var(--jp-content-font-color1, black)));\n",
       "  --sklearn-color-background: var(--sg-background-color, var(--theme-background, var(--jp-layout-color0, white)));\n",
       "  --sklearn-color-border-box: var(--sg-text-color, var(--theme-code-foreground, var(--jp-content-font-color1, black)));\n",
       "  --sklearn-color-icon: #696969;\n",
       "\n",
       "  @media (prefers-color-scheme: dark) {\n",
       "    /* Redefinition of color scheme for dark theme */\n",
       "    --sklearn-color-text-on-default-background: var(--sg-text-color, var(--theme-code-foreground, var(--jp-content-font-color1, white)));\n",
       "    --sklearn-color-background: var(--sg-background-color, var(--theme-background, var(--jp-layout-color0, #111)));\n",
       "    --sklearn-color-border-box: var(--sg-text-color, var(--theme-code-foreground, var(--jp-content-font-color1, white)));\n",
       "    --sklearn-color-icon: #878787;\n",
       "  }\n",
       "}\n",
       "\n",
       "#sk-container-id-1 {\n",
       "  color: var(--sklearn-color-text);\n",
       "}\n",
       "\n",
       "#sk-container-id-1 pre {\n",
       "  padding: 0;\n",
       "}\n",
       "\n",
       "#sk-container-id-1 input.sk-hidden--visually {\n",
       "  border: 0;\n",
       "  clip: rect(1px 1px 1px 1px);\n",
       "  clip: rect(1px, 1px, 1px, 1px);\n",
       "  height: 1px;\n",
       "  margin: -1px;\n",
       "  overflow: hidden;\n",
       "  padding: 0;\n",
       "  position: absolute;\n",
       "  width: 1px;\n",
       "}\n",
       "\n",
       "#sk-container-id-1 div.sk-dashed-wrapped {\n",
       "  border: 1px dashed var(--sklearn-color-line);\n",
       "  margin: 0 0.4em 0.5em 0.4em;\n",
       "  box-sizing: border-box;\n",
       "  padding-bottom: 0.4em;\n",
       "  background-color: var(--sklearn-color-background);\n",
       "}\n",
       "\n",
       "#sk-container-id-1 div.sk-container {\n",
       "  /* jupyter's `normalize.less` sets `[hidden] { display: none; }`\n",
       "     but bootstrap.min.css set `[hidden] { display: none !important; }`\n",
       "     so we also need the `!important` here to be able to override the\n",
       "     default hidden behavior on the sphinx rendered scikit-learn.org.\n",
       "     See: https://github.com/scikit-learn/scikit-learn/issues/21755 */\n",
       "  display: inline-block !important;\n",
       "  position: relative;\n",
       "}\n",
       "\n",
       "#sk-container-id-1 div.sk-text-repr-fallback {\n",
       "  display: none;\n",
       "}\n",
       "\n",
       "div.sk-parallel-item,\n",
       "div.sk-serial,\n",
       "div.sk-item {\n",
       "  /* draw centered vertical line to link estimators */\n",
       "  background-image: linear-gradient(var(--sklearn-color-text-on-default-background), var(--sklearn-color-text-on-default-background));\n",
       "  background-size: 2px 100%;\n",
       "  background-repeat: no-repeat;\n",
       "  background-position: center center;\n",
       "}\n",
       "\n",
       "/* Parallel-specific style estimator block */\n",
       "\n",
       "#sk-container-id-1 div.sk-parallel-item::after {\n",
       "  content: \"\";\n",
       "  width: 100%;\n",
       "  border-bottom: 2px solid var(--sklearn-color-text-on-default-background);\n",
       "  flex-grow: 1;\n",
       "}\n",
       "\n",
       "#sk-container-id-1 div.sk-parallel {\n",
       "  display: flex;\n",
       "  align-items: stretch;\n",
       "  justify-content: center;\n",
       "  background-color: var(--sklearn-color-background);\n",
       "  position: relative;\n",
       "}\n",
       "\n",
       "#sk-container-id-1 div.sk-parallel-item {\n",
       "  display: flex;\n",
       "  flex-direction: column;\n",
       "}\n",
       "\n",
       "#sk-container-id-1 div.sk-parallel-item:first-child::after {\n",
       "  align-self: flex-end;\n",
       "  width: 50%;\n",
       "}\n",
       "\n",
       "#sk-container-id-1 div.sk-parallel-item:last-child::after {\n",
       "  align-self: flex-start;\n",
       "  width: 50%;\n",
       "}\n",
       "\n",
       "#sk-container-id-1 div.sk-parallel-item:only-child::after {\n",
       "  width: 0;\n",
       "}\n",
       "\n",
       "/* Serial-specific style estimator block */\n",
       "\n",
       "#sk-container-id-1 div.sk-serial {\n",
       "  display: flex;\n",
       "  flex-direction: column;\n",
       "  align-items: center;\n",
       "  background-color: var(--sklearn-color-background);\n",
       "  padding-right: 1em;\n",
       "  padding-left: 1em;\n",
       "}\n",
       "\n",
       "\n",
       "/* Toggleable style: style used for estimator/Pipeline/ColumnTransformer box that is\n",
       "clickable and can be expanded/collapsed.\n",
       "- Pipeline and ColumnTransformer use this feature and define the default style\n",
       "- Estimators will overwrite some part of the style using the `sk-estimator` class\n",
       "*/\n",
       "\n",
       "/* Pipeline and ColumnTransformer style (default) */\n",
       "\n",
       "#sk-container-id-1 div.sk-toggleable {\n",
       "  /* Default theme specific background. It is overwritten whether we have a\n",
       "  specific estimator or a Pipeline/ColumnTransformer */\n",
       "  background-color: var(--sklearn-color-background);\n",
       "}\n",
       "\n",
       "/* Toggleable label */\n",
       "#sk-container-id-1 label.sk-toggleable__label {\n",
       "  cursor: pointer;\n",
       "  display: flex;\n",
       "  width: 100%;\n",
       "  margin-bottom: 0;\n",
       "  padding: 0.5em;\n",
       "  box-sizing: border-box;\n",
       "  text-align: center;\n",
       "  align-items: start;\n",
       "  justify-content: space-between;\n",
       "  gap: 0.5em;\n",
       "}\n",
       "\n",
       "#sk-container-id-1 label.sk-toggleable__label .caption {\n",
       "  font-size: 0.6rem;\n",
       "  font-weight: lighter;\n",
       "  color: var(--sklearn-color-text-muted);\n",
       "}\n",
       "\n",
       "#sk-container-id-1 label.sk-toggleable__label-arrow:before {\n",
       "  /* Arrow on the left of the label */\n",
       "  content: \"▸\";\n",
       "  float: left;\n",
       "  margin-right: 0.25em;\n",
       "  color: var(--sklearn-color-icon);\n",
       "}\n",
       "\n",
       "#sk-container-id-1 label.sk-toggleable__label-arrow:hover:before {\n",
       "  color: var(--sklearn-color-text);\n",
       "}\n",
       "\n",
       "/* Toggleable content - dropdown */\n",
       "\n",
       "#sk-container-id-1 div.sk-toggleable__content {\n",
       "  max-height: 0;\n",
       "  max-width: 0;\n",
       "  overflow: hidden;\n",
       "  text-align: left;\n",
       "  /* unfitted */\n",
       "  background-color: var(--sklearn-color-unfitted-level-0);\n",
       "}\n",
       "\n",
       "#sk-container-id-1 div.sk-toggleable__content.fitted {\n",
       "  /* fitted */\n",
       "  background-color: var(--sklearn-color-fitted-level-0);\n",
       "}\n",
       "\n",
       "#sk-container-id-1 div.sk-toggleable__content pre {\n",
       "  margin: 0.2em;\n",
       "  border-radius: 0.25em;\n",
       "  color: var(--sklearn-color-text);\n",
       "  /* unfitted */\n",
       "  background-color: var(--sklearn-color-unfitted-level-0);\n",
       "}\n",
       "\n",
       "#sk-container-id-1 div.sk-toggleable__content.fitted pre {\n",
       "  /* unfitted */\n",
       "  background-color: var(--sklearn-color-fitted-level-0);\n",
       "}\n",
       "\n",
       "#sk-container-id-1 input.sk-toggleable__control:checked~div.sk-toggleable__content {\n",
       "  /* Expand drop-down */\n",
       "  max-height: 200px;\n",
       "  max-width: 100%;\n",
       "  overflow: auto;\n",
       "}\n",
       "\n",
       "#sk-container-id-1 input.sk-toggleable__control:checked~label.sk-toggleable__label-arrow:before {\n",
       "  content: \"▾\";\n",
       "}\n",
       "\n",
       "/* Pipeline/ColumnTransformer-specific style */\n",
       "\n",
       "#sk-container-id-1 div.sk-label input.sk-toggleable__control:checked~label.sk-toggleable__label {\n",
       "  color: var(--sklearn-color-text);\n",
       "  background-color: var(--sklearn-color-unfitted-level-2);\n",
       "}\n",
       "\n",
       "#sk-container-id-1 div.sk-label.fitted input.sk-toggleable__control:checked~label.sk-toggleable__label {\n",
       "  background-color: var(--sklearn-color-fitted-level-2);\n",
       "}\n",
       "\n",
       "/* Estimator-specific style */\n",
       "\n",
       "/* Colorize estimator box */\n",
       "#sk-container-id-1 div.sk-estimator input.sk-toggleable__control:checked~label.sk-toggleable__label {\n",
       "  /* unfitted */\n",
       "  background-color: var(--sklearn-color-unfitted-level-2);\n",
       "}\n",
       "\n",
       "#sk-container-id-1 div.sk-estimator.fitted input.sk-toggleable__control:checked~label.sk-toggleable__label {\n",
       "  /* fitted */\n",
       "  background-color: var(--sklearn-color-fitted-level-2);\n",
       "}\n",
       "\n",
       "#sk-container-id-1 div.sk-label label.sk-toggleable__label,\n",
       "#sk-container-id-1 div.sk-label label {\n",
       "  /* The background is the default theme color */\n",
       "  color: var(--sklearn-color-text-on-default-background);\n",
       "}\n",
       "\n",
       "/* On hover, darken the color of the background */\n",
       "#sk-container-id-1 div.sk-label:hover label.sk-toggleable__label {\n",
       "  color: var(--sklearn-color-text);\n",
       "  background-color: var(--sklearn-color-unfitted-level-2);\n",
       "}\n",
       "\n",
       "/* Label box, darken color on hover, fitted */\n",
       "#sk-container-id-1 div.sk-label.fitted:hover label.sk-toggleable__label.fitted {\n",
       "  color: var(--sklearn-color-text);\n",
       "  background-color: var(--sklearn-color-fitted-level-2);\n",
       "}\n",
       "\n",
       "/* Estimator label */\n",
       "\n",
       "#sk-container-id-1 div.sk-label label {\n",
       "  font-family: monospace;\n",
       "  font-weight: bold;\n",
       "  display: inline-block;\n",
       "  line-height: 1.2em;\n",
       "}\n",
       "\n",
       "#sk-container-id-1 div.sk-label-container {\n",
       "  text-align: center;\n",
       "}\n",
       "\n",
       "/* Estimator-specific */\n",
       "#sk-container-id-1 div.sk-estimator {\n",
       "  font-family: monospace;\n",
       "  border: 1px dotted var(--sklearn-color-border-box);\n",
       "  border-radius: 0.25em;\n",
       "  box-sizing: border-box;\n",
       "  margin-bottom: 0.5em;\n",
       "  /* unfitted */\n",
       "  background-color: var(--sklearn-color-unfitted-level-0);\n",
       "}\n",
       "\n",
       "#sk-container-id-1 div.sk-estimator.fitted {\n",
       "  /* fitted */\n",
       "  background-color: var(--sklearn-color-fitted-level-0);\n",
       "}\n",
       "\n",
       "/* on hover */\n",
       "#sk-container-id-1 div.sk-estimator:hover {\n",
       "  /* unfitted */\n",
       "  background-color: var(--sklearn-color-unfitted-level-2);\n",
       "}\n",
       "\n",
       "#sk-container-id-1 div.sk-estimator.fitted:hover {\n",
       "  /* fitted */\n",
       "  background-color: var(--sklearn-color-fitted-level-2);\n",
       "}\n",
       "\n",
       "/* Specification for estimator info (e.g. \"i\" and \"?\") */\n",
       "\n",
       "/* Common style for \"i\" and \"?\" */\n",
       "\n",
       ".sk-estimator-doc-link,\n",
       "a:link.sk-estimator-doc-link,\n",
       "a:visited.sk-estimator-doc-link {\n",
       "  float: right;\n",
       "  font-size: smaller;\n",
       "  line-height: 1em;\n",
       "  font-family: monospace;\n",
       "  background-color: var(--sklearn-color-background);\n",
       "  border-radius: 1em;\n",
       "  height: 1em;\n",
       "  width: 1em;\n",
       "  text-decoration: none !important;\n",
       "  margin-left: 0.5em;\n",
       "  text-align: center;\n",
       "  /* unfitted */\n",
       "  border: var(--sklearn-color-unfitted-level-1) 1pt solid;\n",
       "  color: var(--sklearn-color-unfitted-level-1);\n",
       "}\n",
       "\n",
       ".sk-estimator-doc-link.fitted,\n",
       "a:link.sk-estimator-doc-link.fitted,\n",
       "a:visited.sk-estimator-doc-link.fitted {\n",
       "  /* fitted */\n",
       "  border: var(--sklearn-color-fitted-level-1) 1pt solid;\n",
       "  color: var(--sklearn-color-fitted-level-1);\n",
       "}\n",
       "\n",
       "/* On hover */\n",
       "div.sk-estimator:hover .sk-estimator-doc-link:hover,\n",
       ".sk-estimator-doc-link:hover,\n",
       "div.sk-label-container:hover .sk-estimator-doc-link:hover,\n",
       ".sk-estimator-doc-link:hover {\n",
       "  /* unfitted */\n",
       "  background-color: var(--sklearn-color-unfitted-level-3);\n",
       "  color: var(--sklearn-color-background);\n",
       "  text-decoration: none;\n",
       "}\n",
       "\n",
       "div.sk-estimator.fitted:hover .sk-estimator-doc-link.fitted:hover,\n",
       ".sk-estimator-doc-link.fitted:hover,\n",
       "div.sk-label-container:hover .sk-estimator-doc-link.fitted:hover,\n",
       ".sk-estimator-doc-link.fitted:hover {\n",
       "  /* fitted */\n",
       "  background-color: var(--sklearn-color-fitted-level-3);\n",
       "  color: var(--sklearn-color-background);\n",
       "  text-decoration: none;\n",
       "}\n",
       "\n",
       "/* Span, style for the box shown on hovering the info icon */\n",
       ".sk-estimator-doc-link span {\n",
       "  display: none;\n",
       "  z-index: 9999;\n",
       "  position: relative;\n",
       "  font-weight: normal;\n",
       "  right: .2ex;\n",
       "  padding: .5ex;\n",
       "  margin: .5ex;\n",
       "  width: min-content;\n",
       "  min-width: 20ex;\n",
       "  max-width: 50ex;\n",
       "  color: var(--sklearn-color-text);\n",
       "  box-shadow: 2pt 2pt 4pt #999;\n",
       "  /* unfitted */\n",
       "  background: var(--sklearn-color-unfitted-level-0);\n",
       "  border: .5pt solid var(--sklearn-color-unfitted-level-3);\n",
       "}\n",
       "\n",
       ".sk-estimator-doc-link.fitted span {\n",
       "  /* fitted */\n",
       "  background: var(--sklearn-color-fitted-level-0);\n",
       "  border: var(--sklearn-color-fitted-level-3);\n",
       "}\n",
       "\n",
       ".sk-estimator-doc-link:hover span {\n",
       "  display: block;\n",
       "}\n",
       "\n",
       "/* \"?\"-specific style due to the `<a>` HTML tag */\n",
       "\n",
       "#sk-container-id-1 a.estimator_doc_link {\n",
       "  float: right;\n",
       "  font-size: 1rem;\n",
       "  line-height: 1em;\n",
       "  font-family: monospace;\n",
       "  background-color: var(--sklearn-color-background);\n",
       "  border-radius: 1rem;\n",
       "  height: 1rem;\n",
       "  width: 1rem;\n",
       "  text-decoration: none;\n",
       "  /* unfitted */\n",
       "  color: var(--sklearn-color-unfitted-level-1);\n",
       "  border: var(--sklearn-color-unfitted-level-1) 1pt solid;\n",
       "}\n",
       "\n",
       "#sk-container-id-1 a.estimator_doc_link.fitted {\n",
       "  /* fitted */\n",
       "  border: var(--sklearn-color-fitted-level-1) 1pt solid;\n",
       "  color: var(--sklearn-color-fitted-level-1);\n",
       "}\n",
       "\n",
       "/* On hover */\n",
       "#sk-container-id-1 a.estimator_doc_link:hover {\n",
       "  /* unfitted */\n",
       "  background-color: var(--sklearn-color-unfitted-level-3);\n",
       "  color: var(--sklearn-color-background);\n",
       "  text-decoration: none;\n",
       "}\n",
       "\n",
       "#sk-container-id-1 a.estimator_doc_link.fitted:hover {\n",
       "  /* fitted */\n",
       "  background-color: var(--sklearn-color-fitted-level-3);\n",
       "}\n",
       "</style><div id=\"sk-container-id-1\" class=\"sk-top-container\"><div class=\"sk-text-repr-fallback\"><pre>Pipeline(steps=[(&#x27;vectorizer_bow&#x27;, CountVectorizer()),\n",
       "                (&#x27;Multi_NB&#x27;, MultinomialNB())])</pre><b>In a Jupyter environment, please rerun this cell to show the HTML representation or trust the notebook. <br />On GitHub, the HTML representation is unable to render, please try loading this page with nbviewer.org.</b></div><div class=\"sk-container\" hidden><div class=\"sk-item sk-dashed-wrapped\"><div class=\"sk-label-container\"><div class=\"sk-label fitted sk-toggleable\"><input class=\"sk-toggleable__control sk-hidden--visually\" id=\"sk-estimator-id-1\" type=\"checkbox\" ><label for=\"sk-estimator-id-1\" class=\"sk-toggleable__label fitted sk-toggleable__label-arrow\"><div><div>Pipeline</div></div><div><a class=\"sk-estimator-doc-link fitted\" rel=\"noreferrer\" target=\"_blank\" href=\"https://scikit-learn.org/1.6/modules/generated/sklearn.pipeline.Pipeline.html\">?<span>Documentation for Pipeline</span></a><span class=\"sk-estimator-doc-link fitted\">i<span>Fitted</span></span></div></label><div class=\"sk-toggleable__content fitted\"><pre>Pipeline(steps=[(&#x27;vectorizer_bow&#x27;, CountVectorizer()),\n",
       "                (&#x27;Multi_NB&#x27;, MultinomialNB())])</pre></div> </div></div><div class=\"sk-serial\"><div class=\"sk-item\"><div class=\"sk-estimator fitted sk-toggleable\"><input class=\"sk-toggleable__control sk-hidden--visually\" id=\"sk-estimator-id-2\" type=\"checkbox\" ><label for=\"sk-estimator-id-2\" class=\"sk-toggleable__label fitted sk-toggleable__label-arrow\"><div><div>CountVectorizer</div></div><div><a class=\"sk-estimator-doc-link fitted\" rel=\"noreferrer\" target=\"_blank\" href=\"https://scikit-learn.org/1.6/modules/generated/sklearn.feature_extraction.text.CountVectorizer.html\">?<span>Documentation for CountVectorizer</span></a></div></label><div class=\"sk-toggleable__content fitted\"><pre>CountVectorizer()</pre></div> </div></div><div class=\"sk-item\"><div class=\"sk-estimator fitted sk-toggleable\"><input class=\"sk-toggleable__control sk-hidden--visually\" id=\"sk-estimator-id-3\" type=\"checkbox\" ><label for=\"sk-estimator-id-3\" class=\"sk-toggleable__label fitted sk-toggleable__label-arrow\"><div><div>MultinomialNB</div></div><div><a class=\"sk-estimator-doc-link fitted\" rel=\"noreferrer\" target=\"_blank\" href=\"https://scikit-learn.org/1.6/modules/generated/sklearn.naive_bayes.MultinomialNB.html\">?<span>Documentation for MultinomialNB</span></a></div></label><div class=\"sk-toggleable__content fitted\"><pre>MultinomialNB()</pre></div> </div></div></div></div></div></div>"
      ],
      "text/plain": [
       "Pipeline(steps=[('vectorizer_bow', CountVectorizer()),\n",
       "                ('Multi_NB', MultinomialNB())])"
      ]
     },
     "execution_count": 33,
     "metadata": {},
     "output_type": "execute_result"
    }
   ],
   "source": [
    "from sklearn.naive_bayes import MultinomialNB\n",
    "from sklearn.pipeline import Pipeline\n",
    "from sklearn.metrics import classification_report\n",
    "\n",
    "pipe = Pipeline([\n",
    "    ('vectorizer_bow', CountVectorizer()),\n",
    "    ('Multi_NB', MultinomialNB())\n",
    "])\n",
    "\n",
    "pipe.fit(X_train, y_train)"
   ]
  },
  {
   "cell_type": "code",
   "execution_count": 34,
   "id": "2ac751e0",
   "metadata": {},
   "outputs": [
    {
     "name": "stdout",
     "output_type": "stream",
     "text": [
      "              precision    recall  f1-score   support\n",
      "\n",
      "           0       0.78      0.92      0.84       276\n",
      "           1       0.92      0.85      0.88       276\n",
      "           2       0.91      0.89      0.90       277\n",
      "           3       0.89      0.82      0.85       276\n",
      "\n",
      "    accuracy                           0.87      1105\n",
      "   macro avg       0.88      0.87      0.87      1105\n",
      "weighted avg       0.88      0.87      0.87      1105\n",
      "\n"
     ]
    }
   ],
   "source": [
    "pred = pipe.predict(X_test)\n",
    "\n",
    "print(classification_report(y_test, pred))"
   ]
  },
  {
   "cell_type": "code",
   "execution_count": null,
   "id": "6f8acf29",
   "metadata": {},
   "outputs": [
    {
     "name": "stdout",
     "output_type": "stream",
     "text": [
      "              precision    recall  f1-score   support\n",
      "\n",
      "           0       0.73      0.95      0.82       276\n",
      "           1       0.92      0.83      0.87       276\n",
      "           2       0.91      0.88      0.89       277\n",
      "           3       0.93      0.79      0.85       276\n",
      "\n",
      "    accuracy                           0.86      1105\n",
      "   macro avg       0.87      0.86      0.86      1105\n",
      "weighted avg       0.87      0.86      0.86      1105\n",
      "\n"
     ]
    }
   ],
   "source": [
    "pipe = Pipeline([\n",
    "    ('vectorizer_bow', CountVectorizer(ngram_range=(1, 2))),\n",
    "    ('Multi_NB', MultinomialNB())\n",
    "])\n",
    "\n",
    "pipe.fit(X_train, y_train)\n",
    "\n",
    "pred = pipe.predict(X_test)\n",
    "\n",
    "print(classification_report(y_test, pred))"
   ]
  },
  {
   "cell_type": "code",
   "execution_count": 41,
   "id": "b8bb97e4",
   "metadata": {},
   "outputs": [
    {
     "name": "stdout",
     "output_type": "stream",
     "text": [
      "              precision    recall  f1-score   support\n",
      "\n",
      "           0       0.71      0.95      0.81       276\n",
      "           1       0.92      0.80      0.85       276\n",
      "           2       0.91      0.88      0.89       277\n",
      "           3       0.92      0.77      0.84       276\n",
      "\n",
      "    accuracy                           0.85      1105\n",
      "   macro avg       0.86      0.85      0.85      1105\n",
      "weighted avg       0.86      0.85      0.85      1105\n",
      "\n"
     ]
    }
   ],
   "source": [
    "pipe = Pipeline([\n",
    "    ('vectorizer_bow', CountVectorizer(ngram_range=(1, 3))),\n",
    "    ('Multi_NB', MultinomialNB())\n",
    "])\n",
    "\n",
    "pipe.fit(X_train, y_train)\n",
    "\n",
    "pred = pipe.predict(X_test)\n",
    "\n",
    "print(classification_report(y_test, pred))"
   ]
  },
  {
   "cell_type": "code",
   "execution_count": 45,
   "id": "92517620",
   "metadata": {},
   "outputs": [],
   "source": [
    "df_balanced['precessed_text'] = df_balanced['text'].apply(lambda x : preprocess(x))"
   ]
  },
  {
   "cell_type": "code",
   "execution_count": 46,
   "id": "5bf1c4d2",
   "metadata": {},
   "outputs": [
    {
     "data": {
      "application/vnd.microsoft.datawrangler.viewer.v0+json": {
       "columns": [
        {
         "name": "index",
         "rawType": "int64",
         "type": "integer"
        },
        {
         "name": "text",
         "rawType": "object",
         "type": "string"
        },
        {
         "name": "category",
         "rawType": "object",
         "type": "string"
        },
        {
         "name": "category_num",
         "rawType": "int64",
         "type": "integer"
        },
        {
         "name": "precessed_text",
         "rawType": "object",
         "type": "string"
        }
       ],
       "conversionMethod": "pd.DataFrame",
       "ref": "1130de26-29e1-4d9f-a80f-fe19749fd3e7",
       "rows": [
        [
         "594",
         "How to Develop the Next Generation of Innovators: Stop Treating Everyone the Same Way What if we are going about jump-starting our own economy the wrong way? I'm not talking about any political party. I'm talking about our modest sensibilities: our belief that giving our best and brightest special consideration is elitist and wrong.",
         "BUSINESS",
         "0",
         "develop Generation Innovators stop treat way go jump start economy wrong way talk political party talk modest sensibility belief give good bright special consideration elitist wrong"
        ],
        [
         "3093",
         "Madoff Victims' Payout Nears $7.2 Billion, Trustee Says ",
         "BUSINESS",
         "0",
         "Madoff Victims Payout near $ 7.2 billion Trustee say"
        ],
        [
         "7447",
         "Bay Area Floats 'Sanctuary In Transit Policy' To Protect Commuting Immigrants The proposal calls for limiting collaboration between BART police and federal agencies.",
         "BUSINESS",
         "0",
         "Bay Area Floats Sanctuary Transit Policy protect Commuting Immigrants proposal call limit collaboration BART police federal agency"
        ],
        [
         "10388",
         "Microsoft Agrees To Acquire LinkedIn For $26.2 Billion (Reuters) - Microsoft Corp  agreed to buy LinkedIn Corp  for $26.2 billion in cash, the companies said in",
         "BUSINESS",
         "0",
         "Microsoft agree acquire linkedin $ 26.2 billion Reuters Microsoft Corp   agree buy LinkedIn Corp   $ 26.2 billion cash company say"
        ],
        [
         "1782",
         "Inside A Legal, Multibillion Dollar Weed Market ",
         "BUSINESS",
         "0",
         "inside Legal Multibillion Dollar Weed Market"
        ]
       ],
       "shape": {
        "columns": 4,
        "rows": 5
       }
      },
      "text/html": [
       "<div>\n",
       "<style scoped>\n",
       "    .dataframe tbody tr th:only-of-type {\n",
       "        vertical-align: middle;\n",
       "    }\n",
       "\n",
       "    .dataframe tbody tr th {\n",
       "        vertical-align: top;\n",
       "    }\n",
       "\n",
       "    .dataframe thead th {\n",
       "        text-align: right;\n",
       "    }\n",
       "</style>\n",
       "<table border=\"1\" class=\"dataframe\">\n",
       "  <thead>\n",
       "    <tr style=\"text-align: right;\">\n",
       "      <th></th>\n",
       "      <th>text</th>\n",
       "      <th>category</th>\n",
       "      <th>category_num</th>\n",
       "      <th>precessed_text</th>\n",
       "    </tr>\n",
       "  </thead>\n",
       "  <tbody>\n",
       "    <tr>\n",
       "      <th>594</th>\n",
       "      <td>How to Develop the Next Generation of Innovato...</td>\n",
       "      <td>BUSINESS</td>\n",
       "      <td>0</td>\n",
       "      <td>develop Generation Innovators stop treat way g...</td>\n",
       "    </tr>\n",
       "    <tr>\n",
       "      <th>3093</th>\n",
       "      <td>Madoff Victims' Payout Nears $7.2 Billion, Tru...</td>\n",
       "      <td>BUSINESS</td>\n",
       "      <td>0</td>\n",
       "      <td>Madoff Victims Payout near $ 7.2 billion Trust...</td>\n",
       "    </tr>\n",
       "    <tr>\n",
       "      <th>7447</th>\n",
       "      <td>Bay Area Floats 'Sanctuary In Transit Policy' ...</td>\n",
       "      <td>BUSINESS</td>\n",
       "      <td>0</td>\n",
       "      <td>Bay Area Floats Sanctuary Transit Policy prote...</td>\n",
       "    </tr>\n",
       "    <tr>\n",
       "      <th>10388</th>\n",
       "      <td>Microsoft Agrees To Acquire LinkedIn For $26.2...</td>\n",
       "      <td>BUSINESS</td>\n",
       "      <td>0</td>\n",
       "      <td>Microsoft agree acquire linkedin $ 26.2 billio...</td>\n",
       "    </tr>\n",
       "    <tr>\n",
       "      <th>1782</th>\n",
       "      <td>Inside A Legal, Multibillion Dollar Weed Market</td>\n",
       "      <td>BUSINESS</td>\n",
       "      <td>0</td>\n",
       "      <td>inside Legal Multibillion Dollar Weed Market</td>\n",
       "    </tr>\n",
       "  </tbody>\n",
       "</table>\n",
       "</div>"
      ],
      "text/plain": [
       "                                                    text  ...                                     precessed_text\n",
       "594    How to Develop the Next Generation of Innovato...  ...  develop Generation Innovators stop treat way g...\n",
       "3093   Madoff Victims' Payout Nears $7.2 Billion, Tru...  ...  Madoff Victims Payout near $ 7.2 billion Trust...\n",
       "7447   Bay Area Floats 'Sanctuary In Transit Policy' ...  ...  Bay Area Floats Sanctuary Transit Policy prote...\n",
       "10388  Microsoft Agrees To Acquire LinkedIn For $26.2...  ...  Microsoft agree acquire linkedin $ 26.2 billio...\n",
       "1782    Inside A Legal, Multibillion Dollar Weed Market   ...       inside Legal Multibillion Dollar Weed Market\n",
       "\n",
       "[5 rows x 4 columns]"
      ]
     },
     "execution_count": 46,
     "metadata": {},
     "output_type": "execute_result"
    }
   ],
   "source": [
    "df_balanced.head()"
   ]
  },
  {
   "cell_type": "code",
   "execution_count": 48,
   "id": "715388c0",
   "metadata": {},
   "outputs": [],
   "source": [
    "X_train, X_test, y_train, y_test = train_test_split(\n",
    "    df_balanced.precessed_text, \n",
    "    df_balanced.category_num, \n",
    "    test_size=0.2, \n",
    "    random_state=2022,\n",
    "    stratify=df_balanced.category_num\n",
    ")"
   ]
  },
  {
   "cell_type": "code",
   "execution_count": 50,
   "id": "6cf5782d",
   "metadata": {},
   "outputs": [
    {
     "data": {
      "text/plain": [
       "category_num\n",
       "3    1105\n",
       "2    1105\n",
       "0    1105\n",
       "1    1104\n",
       "Name: count, dtype: int64"
      ]
     },
     "execution_count": 50,
     "metadata": {},
     "output_type": "execute_result"
    }
   ],
   "source": [
    "y_train.value_counts()"
   ]
  },
  {
   "cell_type": "code",
   "execution_count": 51,
   "id": "dde5444c",
   "metadata": {},
   "outputs": [
    {
     "name": "stdout",
     "output_type": "stream",
     "text": [
      "              precision    recall  f1-score   support\n",
      "\n",
      "           0       0.80      0.90      0.85       276\n",
      "           1       0.93      0.82      0.87       277\n",
      "           2       0.84      0.92      0.88       276\n",
      "           3       0.90      0.82      0.86       276\n",
      "\n",
      "    accuracy                           0.86      1105\n",
      "   macro avg       0.87      0.86      0.86      1105\n",
      "weighted avg       0.87      0.86      0.86      1105\n",
      "\n"
     ]
    }
   ],
   "source": [
    "#1. create a pipeline object\n",
    "clf = Pipeline([\n",
    "    ('vectorizer_bow', CountVectorizer(ngram_range = (1, 2))),        #using the ngram_range parameter \n",
    "    ('Multi NB', MultinomialNB())\n",
    "])\n",
    "\n",
    "#2. fit with X_train and y_train\n",
    "clf.fit(X_train, y_train)\n",
    "\n",
    "\n",
    "#3. get the predictions for X_test and store it in y_pred\n",
    "y_pred = clf.predict(X_test)\n",
    "\n",
    "\n",
    "#4. print the classfication report\n",
    "print(classification_report(y_test, y_pred))"
   ]
  },
  {
   "cell_type": "code",
   "execution_count": 52,
   "id": "d49c3bcc",
   "metadata": {},
   "outputs": [
    {
     "data": {
      "text/plain": [
       "array([[248,   8,  10,  10],\n",
       "       [ 16, 228,  21,  12],\n",
       "       [ 16,   4, 254,   2],\n",
       "       [ 30,   5,  16, 225]])"
      ]
     },
     "execution_count": 52,
     "metadata": {},
     "output_type": "execute_result"
    }
   ],
   "source": [
    "from sklearn.metrics import confusion_matrix\n",
    "cm = confusion_matrix(y_test, y_pred)\n",
    "cm"
   ]
  },
  {
   "cell_type": "code",
   "execution_count": 57,
   "id": "8d89e1b6",
   "metadata": {},
   "outputs": [
    {
     "data": {
      "text/plain": [
       "Text(95.72222222222221, 0.5, 'Truth')"
      ]
     },
     "execution_count": 57,
     "metadata": {},
     "output_type": "execute_result"
    },
    {
     "data": {
      "image/png": "[encoded data removed]",
      "text/plain": [
       "<Figure size 1000x700 with 2 Axes>"
      ]
     },
     "metadata": {},
     "output_type": "display_data"
    }
   ],
   "source": [
    "from matplotlib import pyplot as plt\n",
    "import seaborn as sn\n",
    "plt.figure(figsize = (10,7))\n",
    "sn.heatmap(cm, annot=True, fmt='d')\n",
    "plt.xlabel('Prediction')\n",
    "plt.ylabel('Truth')"
   ]
  },
  {
   "cell_type": "code",
   "execution_count": null,
   "id": "939d04b9",
   "metadata": {},
   "outputs": [],
   "source": []
  }
 ],
 "metadata": {
  "kernelspec": {
   "display_name": ".venv",
   "language": "python",
   "name": "python3"
  },
  "language_info": {
   "codemirror_mode": {
    "name": "ipython",
    "version": 3
   },
   "file_extension": ".py",
   "mimetype": "text/x-python",
   "name": "python",
   "nbconvert_exporter": "python",
   "pygments_lexer": "ipython3",
   "version": "3.10.16"
  }
 },
 "nbformat": 4,
 "nbformat_minor": 5
}
