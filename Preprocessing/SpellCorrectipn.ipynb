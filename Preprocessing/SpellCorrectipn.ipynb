{
 "cells": [
  {
   "cell_type": "code",
   "execution_count": 10,
   "id": "1b9ba8fb",
   "metadata": {},
   "outputs": [],
   "source": [
    "from spellchecker import SpellChecker\n",
    "\n",
    "spell = SpellChecker()\n",
    "\n",
    "def correct_spellings(text):\n",
    "    correct_text = []\n",
    "    misspelled_text = spell.unknown(text.split())\n",
    "    print(misspelled_text)\n",
    "    for word in text.split():\n",
    "        if word in misspelled_text:\n",
    "            correct_text.append(spell.correction(word))\n",
    "        else:\n",
    "            correct_text.append(word)\n",
    "    return \" \".join(correct_text)"
   ]
  },
  {
   "cell_type": "code",
   "execution_count": 13,
   "id": "05ff25eb",
   "metadata": {},
   "outputs": [],
   "source": [
    "text = 'natur is a beuty'"
   ]
  },
  {
   "cell_type": "code",
   "execution_count": 14,
   "id": "0371c801",
   "metadata": {},
   "outputs": [
    {
     "name": "stdout",
     "output_type": "stream",
     "text": [
      "{'beuty', 'natur'}\n",
      "nature is a beauty\n"
     ]
    }
   ],
   "source": [
    "text = correct_spellings(text)\n",
    "print(text)"
   ]
  },
  {
   "cell_type": "code",
   "execution_count": null,
   "id": "67a54c06",
   "metadata": {},
   "outputs": [],
   "source": []
  }
 ],
 "metadata": {
  "kernelspec": {
   "display_name": ".venv",
   "language": "python",
   "name": "python3"
  },
  "language_info": {
   "codemirror_mode": {
    "name": "ipython",
    "version": 3
   },
   "file_extension": ".py",
   "mimetype": "text/x-python",
   "name": "python",
   "nbconvert_exporter": "python",
   "pygments_lexer": "ipython3",
   "version": "3.10.16"
  }
 },
 "nbformat": 4,
 "nbformat_minor": 5
}
